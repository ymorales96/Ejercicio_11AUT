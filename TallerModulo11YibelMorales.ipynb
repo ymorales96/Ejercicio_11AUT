{
  "nbformat": 4,
  "nbformat_minor": 0,
  "metadata": {
    "colab": {
      "provenance": [],
      "toc_visible": true
    },
    "kernelspec": {
      "name": "python3",
      "display_name": "Python 3"
    },
    "language_info": {
      "name": "python"
    }
  },
  "cells": [
    {
      "cell_type": "markdown",
      "source": [
        "**Taller Modulo 11 Aprendizaje Automático**\n",
        "\n",
        "**Nombre:** Yibel Jasbleidy Morales Rey\n",
        "\n",
        "CC 1013689724"
      ],
      "metadata": {
        "id": "0e2Mq4yvf5pt"
      }
    },
    {
      "cell_type": "code",
      "source": [
        "!pip install sodapy"
      ],
      "metadata": {
        "colab": {
          "base_uri": "https://localhost:8080/"
        },
        "id": "tQXVKHvgeFIp",
        "outputId": "112ceb07-bf2e-470c-b857-8a145d6e6f71"
      },
      "execution_count": 30,
      "outputs": [
        {
          "output_type": "stream",
          "name": "stdout",
          "text": [
            "Requirement already satisfied: sodapy in /usr/local/lib/python3.10/dist-packages (2.2.0)\n",
            "Requirement already satisfied: requests>=2.28.1 in /usr/local/lib/python3.10/dist-packages (from sodapy) (2.31.0)\n",
            "Requirement already satisfied: charset-normalizer<4,>=2 in /usr/local/lib/python3.10/dist-packages (from requests>=2.28.1->sodapy) (2.0.12)\n",
            "Requirement already satisfied: idna<4,>=2.5 in /usr/local/lib/python3.10/dist-packages (from requests>=2.28.1->sodapy) (3.4)\n",
            "Requirement already satisfied: urllib3<3,>=1.21.1 in /usr/local/lib/python3.10/dist-packages (from requests>=2.28.1->sodapy) (1.26.16)\n",
            "Requirement already satisfied: certifi>=2017.4.17 in /usr/local/lib/python3.10/dist-packages (from requests>=2.28.1->sodapy) (2023.5.7)\n"
          ]
        }
      ]
    },
    {
      "cell_type": "code",
      "source": [
        "#importar librerias\n",
        "import pandas as pd\n",
        "import matplotlib.pyplot as plt\n",
        "import numpy as np\n",
        "from sodapy import Socrata"
      ],
      "metadata": {
        "id": "yORiPHtLd7UC"
      },
      "execution_count": 31,
      "outputs": []
    },
    {
      "cell_type": "code",
      "source": [
        "from sklearn.model_selection import train_test_split\n",
        "from sklearn.neighbors import KNeighborsClassifier\n"
      ],
      "metadata": {
        "id": "j2LnRvXV7f1D"
      },
      "execution_count": 32,
      "outputs": []
    },
    {
      "cell_type": "markdown",
      "source": [
        "# **Actividad 1**"
      ],
      "metadata": {
        "id": "oWlwoqT3dDKs"
      }
    },
    {
      "cell_type": "markdown",
      "source": [
        "## Usando Socrata, Cargue un dataset que se encuentre en el portal de datos públicos de Colombia"
      ],
      "metadata": {
        "id": "c9SQESiNdEWd"
      }
    },
    {
      "cell_type": "markdown",
      "source": [
        "Se escogió un Dataset sobre la clasificación del Sisbén en Hogares en el portal de datos públicos en Colombia [link del dataset 1](https://www.datos.gov.co/Estad-sticas-Nacionales/DNP-Sisb-n-Hogares/ab8a-uwf7)\n"
      ],
      "metadata": {
        "id": "2sjHMmVne2sY"
      }
    },
    {
      "cell_type": "code",
      "source": [
        "#Dirección de la pagina\n",
        "cliente=Socrata('www.datos.gov.co', None)\n",
        "#Se agrega el identificador\n",
        "result=cliente.get('ab8a-uwf7')\n",
        "#Convertir los datos al dataframe\n",
        "df_1=pd.DataFrame.from_records(result)\n",
        "df_1.head()"
      ],
      "metadata": {
        "colab": {
          "base_uri": "https://localhost:8080/",
          "height": 317
        },
        "id": "XoZxq0wVdd3F",
        "outputId": "fcee9bce-919e-48bf-cc74-3e933a2be59a"
      },
      "execution_count": 33,
      "outputs": [
        {
          "output_type": "stream",
          "name": "stderr",
          "text": [
            "WARNING:root:Requests made without an app_token will be subject to strict throttling limits.\n"
          ]
        },
        {
          "output_type": "execute_result",
          "data": {
            "text/plain": [
              "  cod_mpio zona llave     corte hogar           fex hog001 hog002 hog003  \\\n",
              "0    05001    1  0001  SIV_2022     1  761.19639279      1      4      2   \n",
              "1    05001    2  0002  SIV_2022     1  23.954887218      3      3      2   \n",
              "2    05001    1  0003  SIV_2022     1  761.19639279      4      2      2   \n",
              "3    05001    1  0003  SIV_2022     2  761.19639279      3      2      2   \n",
              "4    05001    1  0004  SIV_2022     1  761.19639279      3      3      2   \n",
              "\n",
              "  hog004  ... hog018 hog019 hog020 hog021 hog022 hog023 hog024 hog025 hog026  \\\n",
              "0      1  ...      1      2      1      2      2      2      2      2      2   \n",
              "1      2  ...      1      1      2      2      2      2      2      2      2   \n",
              "2      1  ...      1      2      2      2      2      2      2      2      2   \n",
              "3      1  ...      2      1      2      2      2      2      2      2      2   \n",
              "4      1  ...      1      1      1      2      2      2      2      2      2   \n",
              "\n",
              "  hog027  \n",
              "0      2  \n",
              "1      4  \n",
              "2      1  \n",
              "3      2  \n",
              "4      3  \n",
              "\n",
              "[5 rows x 33 columns]"
            ],
            "text/html": [
              "\n",
              "\n",
              "  <div id=\"df-f3dc8ff8-bf9e-4b1c-92e7-ac96d85078e0\">\n",
              "    <div class=\"colab-df-container\">\n",
              "      <div>\n",
              "<style scoped>\n",
              "    .dataframe tbody tr th:only-of-type {\n",
              "        vertical-align: middle;\n",
              "    }\n",
              "\n",
              "    .dataframe tbody tr th {\n",
              "        vertical-align: top;\n",
              "    }\n",
              "\n",
              "    .dataframe thead th {\n",
              "        text-align: right;\n",
              "    }\n",
              "</style>\n",
              "<table border=\"1\" class=\"dataframe\">\n",
              "  <thead>\n",
              "    <tr style=\"text-align: right;\">\n",
              "      <th></th>\n",
              "      <th>cod_mpio</th>\n",
              "      <th>zona</th>\n",
              "      <th>llave</th>\n",
              "      <th>corte</th>\n",
              "      <th>hogar</th>\n",
              "      <th>fex</th>\n",
              "      <th>hog001</th>\n",
              "      <th>hog002</th>\n",
              "      <th>hog003</th>\n",
              "      <th>hog004</th>\n",
              "      <th>...</th>\n",
              "      <th>hog018</th>\n",
              "      <th>hog019</th>\n",
              "      <th>hog020</th>\n",
              "      <th>hog021</th>\n",
              "      <th>hog022</th>\n",
              "      <th>hog023</th>\n",
              "      <th>hog024</th>\n",
              "      <th>hog025</th>\n",
              "      <th>hog026</th>\n",
              "      <th>hog027</th>\n",
              "    </tr>\n",
              "  </thead>\n",
              "  <tbody>\n",
              "    <tr>\n",
              "      <th>0</th>\n",
              "      <td>05001</td>\n",
              "      <td>1</td>\n",
              "      <td>0001</td>\n",
              "      <td>SIV_2022</td>\n",
              "      <td>1</td>\n",
              "      <td>761.19639279</td>\n",
              "      <td>1</td>\n",
              "      <td>4</td>\n",
              "      <td>2</td>\n",
              "      <td>1</td>\n",
              "      <td>...</td>\n",
              "      <td>1</td>\n",
              "      <td>2</td>\n",
              "      <td>1</td>\n",
              "      <td>2</td>\n",
              "      <td>2</td>\n",
              "      <td>2</td>\n",
              "      <td>2</td>\n",
              "      <td>2</td>\n",
              "      <td>2</td>\n",
              "      <td>2</td>\n",
              "    </tr>\n",
              "    <tr>\n",
              "      <th>1</th>\n",
              "      <td>05001</td>\n",
              "      <td>2</td>\n",
              "      <td>0002</td>\n",
              "      <td>SIV_2022</td>\n",
              "      <td>1</td>\n",
              "      <td>23.954887218</td>\n",
              "      <td>3</td>\n",
              "      <td>3</td>\n",
              "      <td>2</td>\n",
              "      <td>2</td>\n",
              "      <td>...</td>\n",
              "      <td>1</td>\n",
              "      <td>1</td>\n",
              "      <td>2</td>\n",
              "      <td>2</td>\n",
              "      <td>2</td>\n",
              "      <td>2</td>\n",
              "      <td>2</td>\n",
              "      <td>2</td>\n",
              "      <td>2</td>\n",
              "      <td>4</td>\n",
              "    </tr>\n",
              "    <tr>\n",
              "      <th>2</th>\n",
              "      <td>05001</td>\n",
              "      <td>1</td>\n",
              "      <td>0003</td>\n",
              "      <td>SIV_2022</td>\n",
              "      <td>1</td>\n",
              "      <td>761.19639279</td>\n",
              "      <td>4</td>\n",
              "      <td>2</td>\n",
              "      <td>2</td>\n",
              "      <td>1</td>\n",
              "      <td>...</td>\n",
              "      <td>1</td>\n",
              "      <td>2</td>\n",
              "      <td>2</td>\n",
              "      <td>2</td>\n",
              "      <td>2</td>\n",
              "      <td>2</td>\n",
              "      <td>2</td>\n",
              "      <td>2</td>\n",
              "      <td>2</td>\n",
              "      <td>1</td>\n",
              "    </tr>\n",
              "    <tr>\n",
              "      <th>3</th>\n",
              "      <td>05001</td>\n",
              "      <td>1</td>\n",
              "      <td>0003</td>\n",
              "      <td>SIV_2022</td>\n",
              "      <td>2</td>\n",
              "      <td>761.19639279</td>\n",
              "      <td>3</td>\n",
              "      <td>2</td>\n",
              "      <td>2</td>\n",
              "      <td>1</td>\n",
              "      <td>...</td>\n",
              "      <td>2</td>\n",
              "      <td>1</td>\n",
              "      <td>2</td>\n",
              "      <td>2</td>\n",
              "      <td>2</td>\n",
              "      <td>2</td>\n",
              "      <td>2</td>\n",
              "      <td>2</td>\n",
              "      <td>2</td>\n",
              "      <td>2</td>\n",
              "    </tr>\n",
              "    <tr>\n",
              "      <th>4</th>\n",
              "      <td>05001</td>\n",
              "      <td>1</td>\n",
              "      <td>0004</td>\n",
              "      <td>SIV_2022</td>\n",
              "      <td>1</td>\n",
              "      <td>761.19639279</td>\n",
              "      <td>3</td>\n",
              "      <td>3</td>\n",
              "      <td>2</td>\n",
              "      <td>1</td>\n",
              "      <td>...</td>\n",
              "      <td>1</td>\n",
              "      <td>1</td>\n",
              "      <td>1</td>\n",
              "      <td>2</td>\n",
              "      <td>2</td>\n",
              "      <td>2</td>\n",
              "      <td>2</td>\n",
              "      <td>2</td>\n",
              "      <td>2</td>\n",
              "      <td>3</td>\n",
              "    </tr>\n",
              "  </tbody>\n",
              "</table>\n",
              "<p>5 rows × 33 columns</p>\n",
              "</div>\n",
              "      <button class=\"colab-df-convert\" onclick=\"convertToInteractive('df-f3dc8ff8-bf9e-4b1c-92e7-ac96d85078e0')\"\n",
              "              title=\"Convert this dataframe to an interactive table.\"\n",
              "              style=\"display:none;\">\n",
              "\n",
              "  <svg xmlns=\"http://www.w3.org/2000/svg\" height=\"24px\"viewBox=\"0 0 24 24\"\n",
              "       width=\"24px\">\n",
              "    <path d=\"M0 0h24v24H0V0z\" fill=\"none\"/>\n",
              "    <path d=\"M18.56 5.44l.94 2.06.94-2.06 2.06-.94-2.06-.94-.94-2.06-.94 2.06-2.06.94zm-11 1L8.5 8.5l.94-2.06 2.06-.94-2.06-.94L8.5 2.5l-.94 2.06-2.06.94zm10 10l.94 2.06.94-2.06 2.06-.94-2.06-.94-.94-2.06-.94 2.06-2.06.94z\"/><path d=\"M17.41 7.96l-1.37-1.37c-.4-.4-.92-.59-1.43-.59-.52 0-1.04.2-1.43.59L10.3 9.45l-7.72 7.72c-.78.78-.78 2.05 0 2.83L4 21.41c.39.39.9.59 1.41.59.51 0 1.02-.2 1.41-.59l7.78-7.78 2.81-2.81c.8-.78.8-2.07 0-2.86zM5.41 20L4 18.59l7.72-7.72 1.47 1.35L5.41 20z\"/>\n",
              "  </svg>\n",
              "      </button>\n",
              "\n",
              "\n",
              "\n",
              "    <div id=\"df-16e65a17-ad9d-45c4-840e-4c9e8cdf5d3e\">\n",
              "      <button class=\"colab-df-quickchart\" onclick=\"quickchart('df-16e65a17-ad9d-45c4-840e-4c9e8cdf5d3e')\"\n",
              "              title=\"Suggest charts.\"\n",
              "              style=\"display:none;\">\n",
              "\n",
              "<svg xmlns=\"http://www.w3.org/2000/svg\" height=\"24px\"viewBox=\"0 0 24 24\"\n",
              "     width=\"24px\">\n",
              "    <g>\n",
              "        <path d=\"M19 3H5c-1.1 0-2 .9-2 2v14c0 1.1.9 2 2 2h14c1.1 0 2-.9 2-2V5c0-1.1-.9-2-2-2zM9 17H7v-7h2v7zm4 0h-2V7h2v10zm4 0h-2v-4h2v4z\"/>\n",
              "    </g>\n",
              "</svg>\n",
              "      </button>\n",
              "    </div>\n",
              "\n",
              "<style>\n",
              "  .colab-df-quickchart {\n",
              "    background-color: #E8F0FE;\n",
              "    border: none;\n",
              "    border-radius: 50%;\n",
              "    cursor: pointer;\n",
              "    display: none;\n",
              "    fill: #1967D2;\n",
              "    height: 32px;\n",
              "    padding: 0 0 0 0;\n",
              "    width: 32px;\n",
              "  }\n",
              "\n",
              "  .colab-df-quickchart:hover {\n",
              "    background-color: #E2EBFA;\n",
              "    box-shadow: 0px 1px 2px rgba(60, 64, 67, 0.3), 0px 1px 3px 1px rgba(60, 64, 67, 0.15);\n",
              "    fill: #174EA6;\n",
              "  }\n",
              "\n",
              "  [theme=dark] .colab-df-quickchart {\n",
              "    background-color: #3B4455;\n",
              "    fill: #D2E3FC;\n",
              "  }\n",
              "\n",
              "  [theme=dark] .colab-df-quickchart:hover {\n",
              "    background-color: #434B5C;\n",
              "    box-shadow: 0px 1px 3px 1px rgba(0, 0, 0, 0.15);\n",
              "    filter: drop-shadow(0px 1px 2px rgba(0, 0, 0, 0.3));\n",
              "    fill: #FFFFFF;\n",
              "  }\n",
              "</style>\n",
              "\n",
              "    <script>\n",
              "      async function quickchart(key) {\n",
              "        const containerElement = document.querySelector('#' + key);\n",
              "        const charts = await google.colab.kernel.invokeFunction(\n",
              "            'suggestCharts', [key], {});\n",
              "      }\n",
              "    </script>\n",
              "\n",
              "      <script>\n",
              "\n",
              "function displayQuickchartButton(domScope) {\n",
              "  let quickchartButtonEl =\n",
              "    domScope.querySelector('#df-16e65a17-ad9d-45c4-840e-4c9e8cdf5d3e button.colab-df-quickchart');\n",
              "  quickchartButtonEl.style.display =\n",
              "    google.colab.kernel.accessAllowed ? 'block' : 'none';\n",
              "}\n",
              "\n",
              "        displayQuickchartButton(document);\n",
              "      </script>\n",
              "      <style>\n",
              "    .colab-df-container {\n",
              "      display:flex;\n",
              "      flex-wrap:wrap;\n",
              "      gap: 12px;\n",
              "    }\n",
              "\n",
              "    .colab-df-convert {\n",
              "      background-color: #E8F0FE;\n",
              "      border: none;\n",
              "      border-radius: 50%;\n",
              "      cursor: pointer;\n",
              "      display: none;\n",
              "      fill: #1967D2;\n",
              "      height: 32px;\n",
              "      padding: 0 0 0 0;\n",
              "      width: 32px;\n",
              "    }\n",
              "\n",
              "    .colab-df-convert:hover {\n",
              "      background-color: #E2EBFA;\n",
              "      box-shadow: 0px 1px 2px rgba(60, 64, 67, 0.3), 0px 1px 3px 1px rgba(60, 64, 67, 0.15);\n",
              "      fill: #174EA6;\n",
              "    }\n",
              "\n",
              "    [theme=dark] .colab-df-convert {\n",
              "      background-color: #3B4455;\n",
              "      fill: #D2E3FC;\n",
              "    }\n",
              "\n",
              "    [theme=dark] .colab-df-convert:hover {\n",
              "      background-color: #434B5C;\n",
              "      box-shadow: 0px 1px 3px 1px rgba(0, 0, 0, 0.15);\n",
              "      filter: drop-shadow(0px 1px 2px rgba(0, 0, 0, 0.3));\n",
              "      fill: #FFFFFF;\n",
              "    }\n",
              "  </style>\n",
              "\n",
              "      <script>\n",
              "        const buttonEl =\n",
              "          document.querySelector('#df-f3dc8ff8-bf9e-4b1c-92e7-ac96d85078e0 button.colab-df-convert');\n",
              "        buttonEl.style.display =\n",
              "          google.colab.kernel.accessAllowed ? 'block' : 'none';\n",
              "\n",
              "        async function convertToInteractive(key) {\n",
              "          const element = document.querySelector('#df-f3dc8ff8-bf9e-4b1c-92e7-ac96d85078e0');\n",
              "          const dataTable =\n",
              "            await google.colab.kernel.invokeFunction('convertToInteractive',\n",
              "                                                     [key], {});\n",
              "          if (!dataTable) return;\n",
              "\n",
              "          const docLinkHtml = 'Like what you see? Visit the ' +\n",
              "            '<a target=\"_blank\" href=https://colab.research.google.com/notebooks/data_table.ipynb>data table notebook</a>'\n",
              "            + ' to learn more about interactive tables.';\n",
              "          element.innerHTML = '';\n",
              "          dataTable['output_type'] = 'display_data';\n",
              "          await google.colab.output.renderOutput(dataTable, element);\n",
              "          const docLink = document.createElement('div');\n",
              "          docLink.innerHTML = docLinkHtml;\n",
              "          element.appendChild(docLink);\n",
              "        }\n",
              "      </script>\n",
              "    </div>\n",
              "  </div>\n"
            ]
          },
          "metadata": {},
          "execution_count": 33
        }
      ]
    },
    {
      "cell_type": "markdown",
      "source": [
        "## Realice las tareas de limpieza necesarias"
      ],
      "metadata": {
        "id": "-yd-mTq5XWNk"
      }
    },
    {
      "cell_type": "code",
      "source": [
        "#Verificar los datos desde el data Set en información general\n",
        "df_1.info()\n"
      ],
      "metadata": {
        "colab": {
          "base_uri": "https://localhost:8080/"
        },
        "id": "ncxoSwH-zlVG",
        "outputId": "0ce630e8-8420-41af-ac7d-f6f4bd827d28"
      },
      "execution_count": 34,
      "outputs": [
        {
          "output_type": "stream",
          "name": "stdout",
          "text": [
            "<class 'pandas.core.frame.DataFrame'>\n",
            "RangeIndex: 1000 entries, 0 to 999\n",
            "Data columns (total 33 columns):\n",
            " #   Column    Non-Null Count  Dtype \n",
            "---  ------    --------------  ----- \n",
            " 0   cod_mpio  1000 non-null   object\n",
            " 1   zona      1000 non-null   object\n",
            " 2   llave     1000 non-null   object\n",
            " 3   corte     1000 non-null   object\n",
            " 4   hogar     1000 non-null   object\n",
            " 5   fex       1000 non-null   object\n",
            " 6   hog001    1000 non-null   object\n",
            " 7   hog002    1000 non-null   object\n",
            " 8   hog003    1000 non-null   object\n",
            " 9   hog004    1000 non-null   object\n",
            " 10  hog005    1000 non-null   object\n",
            " 11  hog006    1000 non-null   object\n",
            " 12  hog007    1000 non-null   object\n",
            " 13  hog008    1000 non-null   object\n",
            " 14  hog009    1000 non-null   object\n",
            " 15  hog010    1000 non-null   object\n",
            " 16  hog011    1000 non-null   object\n",
            " 17  hog012    1000 non-null   object\n",
            " 18  hog013    1000 non-null   object\n",
            " 19  hog014    1000 non-null   object\n",
            " 20  hog015    1000 non-null   object\n",
            " 21  hog016    1000 non-null   object\n",
            " 22  hog017    1000 non-null   object\n",
            " 23  hog018    1000 non-null   object\n",
            " 24  hog019    1000 non-null   object\n",
            " 25  hog020    1000 non-null   object\n",
            " 26  hog021    1000 non-null   object\n",
            " 27  hog022    1000 non-null   object\n",
            " 28  hog023    1000 non-null   object\n",
            " 29  hog024    1000 non-null   object\n",
            " 30  hog025    1000 non-null   object\n",
            " 31  hog026    1000 non-null   object\n",
            " 32  hog027    1000 non-null   object\n",
            "dtypes: object(33)\n",
            "memory usage: 257.9+ KB\n"
          ]
        }
      ]
    },
    {
      "cell_type": "code",
      "source": [
        "df_1.describe()"
      ],
      "metadata": {
        "colab": {
          "base_uri": "https://localhost:8080/",
          "height": 268
        },
        "id": "xU-LSc_X0Gdk",
        "outputId": "9a431e93-bf5b-4d1f-a1b1-1cdf1cba605b"
      },
      "execution_count": 35,
      "outputs": [
        {
          "output_type": "execute_result",
          "data": {
            "text/plain": [
              "       cod_mpio  zona llave     corte hogar           fex hog001 hog002  \\\n",
              "count      1000  1000  1000      1000  1000          1000   1000   1000   \n",
              "unique        1     2   963         1     4             2      5     10   \n",
              "top       05001     2  0020  SIV_2022     1  23.954887218      3      3   \n",
              "freq       1000   507     4      1000   962           507    412    349   \n",
              "\n",
              "       hog003 hog004  ... hog018 hog019 hog020 hog021 hog022 hog023 hog024  \\\n",
              "count    1000   1000  ...   1000   1000   1000   1000   1000   1000   1000   \n",
              "unique      8      4  ...      2      2      2      2      2      1      2   \n",
              "top         2      1  ...      1      1      2      2      2      2      2   \n",
              "freq      398    761  ...    881    557    639    952    971   1000    993   \n",
              "\n",
              "       hog025 hog026 hog027  \n",
              "count    1000   1000   1000  \n",
              "unique      2      2     10  \n",
              "top         2      2      2  \n",
              "freq      975    983    246  \n",
              "\n",
              "[4 rows x 33 columns]"
            ],
            "text/html": [
              "\n",
              "\n",
              "  <div id=\"df-e497c51f-be10-4ebc-9d10-4bdc73f6ba74\">\n",
              "    <div class=\"colab-df-container\">\n",
              "      <div>\n",
              "<style scoped>\n",
              "    .dataframe tbody tr th:only-of-type {\n",
              "        vertical-align: middle;\n",
              "    }\n",
              "\n",
              "    .dataframe tbody tr th {\n",
              "        vertical-align: top;\n",
              "    }\n",
              "\n",
              "    .dataframe thead th {\n",
              "        text-align: right;\n",
              "    }\n",
              "</style>\n",
              "<table border=\"1\" class=\"dataframe\">\n",
              "  <thead>\n",
              "    <tr style=\"text-align: right;\">\n",
              "      <th></th>\n",
              "      <th>cod_mpio</th>\n",
              "      <th>zona</th>\n",
              "      <th>llave</th>\n",
              "      <th>corte</th>\n",
              "      <th>hogar</th>\n",
              "      <th>fex</th>\n",
              "      <th>hog001</th>\n",
              "      <th>hog002</th>\n",
              "      <th>hog003</th>\n",
              "      <th>hog004</th>\n",
              "      <th>...</th>\n",
              "      <th>hog018</th>\n",
              "      <th>hog019</th>\n",
              "      <th>hog020</th>\n",
              "      <th>hog021</th>\n",
              "      <th>hog022</th>\n",
              "      <th>hog023</th>\n",
              "      <th>hog024</th>\n",
              "      <th>hog025</th>\n",
              "      <th>hog026</th>\n",
              "      <th>hog027</th>\n",
              "    </tr>\n",
              "  </thead>\n",
              "  <tbody>\n",
              "    <tr>\n",
              "      <th>count</th>\n",
              "      <td>1000</td>\n",
              "      <td>1000</td>\n",
              "      <td>1000</td>\n",
              "      <td>1000</td>\n",
              "      <td>1000</td>\n",
              "      <td>1000</td>\n",
              "      <td>1000</td>\n",
              "      <td>1000</td>\n",
              "      <td>1000</td>\n",
              "      <td>1000</td>\n",
              "      <td>...</td>\n",
              "      <td>1000</td>\n",
              "      <td>1000</td>\n",
              "      <td>1000</td>\n",
              "      <td>1000</td>\n",
              "      <td>1000</td>\n",
              "      <td>1000</td>\n",
              "      <td>1000</td>\n",
              "      <td>1000</td>\n",
              "      <td>1000</td>\n",
              "      <td>1000</td>\n",
              "    </tr>\n",
              "    <tr>\n",
              "      <th>unique</th>\n",
              "      <td>1</td>\n",
              "      <td>2</td>\n",
              "      <td>963</td>\n",
              "      <td>1</td>\n",
              "      <td>4</td>\n",
              "      <td>2</td>\n",
              "      <td>5</td>\n",
              "      <td>10</td>\n",
              "      <td>8</td>\n",
              "      <td>4</td>\n",
              "      <td>...</td>\n",
              "      <td>2</td>\n",
              "      <td>2</td>\n",
              "      <td>2</td>\n",
              "      <td>2</td>\n",
              "      <td>2</td>\n",
              "      <td>1</td>\n",
              "      <td>2</td>\n",
              "      <td>2</td>\n",
              "      <td>2</td>\n",
              "      <td>10</td>\n",
              "    </tr>\n",
              "    <tr>\n",
              "      <th>top</th>\n",
              "      <td>05001</td>\n",
              "      <td>2</td>\n",
              "      <td>0020</td>\n",
              "      <td>SIV_2022</td>\n",
              "      <td>1</td>\n",
              "      <td>23.954887218</td>\n",
              "      <td>3</td>\n",
              "      <td>3</td>\n",
              "      <td>2</td>\n",
              "      <td>1</td>\n",
              "      <td>...</td>\n",
              "      <td>1</td>\n",
              "      <td>1</td>\n",
              "      <td>2</td>\n",
              "      <td>2</td>\n",
              "      <td>2</td>\n",
              "      <td>2</td>\n",
              "      <td>2</td>\n",
              "      <td>2</td>\n",
              "      <td>2</td>\n",
              "      <td>2</td>\n",
              "    </tr>\n",
              "    <tr>\n",
              "      <th>freq</th>\n",
              "      <td>1000</td>\n",
              "      <td>507</td>\n",
              "      <td>4</td>\n",
              "      <td>1000</td>\n",
              "      <td>962</td>\n",
              "      <td>507</td>\n",
              "      <td>412</td>\n",
              "      <td>349</td>\n",
              "      <td>398</td>\n",
              "      <td>761</td>\n",
              "      <td>...</td>\n",
              "      <td>881</td>\n",
              "      <td>557</td>\n",
              "      <td>639</td>\n",
              "      <td>952</td>\n",
              "      <td>971</td>\n",
              "      <td>1000</td>\n",
              "      <td>993</td>\n",
              "      <td>975</td>\n",
              "      <td>983</td>\n",
              "      <td>246</td>\n",
              "    </tr>\n",
              "  </tbody>\n",
              "</table>\n",
              "<p>4 rows × 33 columns</p>\n",
              "</div>\n",
              "      <button class=\"colab-df-convert\" onclick=\"convertToInteractive('df-e497c51f-be10-4ebc-9d10-4bdc73f6ba74')\"\n",
              "              title=\"Convert this dataframe to an interactive table.\"\n",
              "              style=\"display:none;\">\n",
              "\n",
              "  <svg xmlns=\"http://www.w3.org/2000/svg\" height=\"24px\"viewBox=\"0 0 24 24\"\n",
              "       width=\"24px\">\n",
              "    <path d=\"M0 0h24v24H0V0z\" fill=\"none\"/>\n",
              "    <path d=\"M18.56 5.44l.94 2.06.94-2.06 2.06-.94-2.06-.94-.94-2.06-.94 2.06-2.06.94zm-11 1L8.5 8.5l.94-2.06 2.06-.94-2.06-.94L8.5 2.5l-.94 2.06-2.06.94zm10 10l.94 2.06.94-2.06 2.06-.94-2.06-.94-.94-2.06-.94 2.06-2.06.94z\"/><path d=\"M17.41 7.96l-1.37-1.37c-.4-.4-.92-.59-1.43-.59-.52 0-1.04.2-1.43.59L10.3 9.45l-7.72 7.72c-.78.78-.78 2.05 0 2.83L4 21.41c.39.39.9.59 1.41.59.51 0 1.02-.2 1.41-.59l7.78-7.78 2.81-2.81c.8-.78.8-2.07 0-2.86zM5.41 20L4 18.59l7.72-7.72 1.47 1.35L5.41 20z\"/>\n",
              "  </svg>\n",
              "      </button>\n",
              "\n",
              "\n",
              "\n",
              "    <div id=\"df-d46d6920-150f-43db-b70e-54cf3371f211\">\n",
              "      <button class=\"colab-df-quickchart\" onclick=\"quickchart('df-d46d6920-150f-43db-b70e-54cf3371f211')\"\n",
              "              title=\"Suggest charts.\"\n",
              "              style=\"display:none;\">\n",
              "\n",
              "<svg xmlns=\"http://www.w3.org/2000/svg\" height=\"24px\"viewBox=\"0 0 24 24\"\n",
              "     width=\"24px\">\n",
              "    <g>\n",
              "        <path d=\"M19 3H5c-1.1 0-2 .9-2 2v14c0 1.1.9 2 2 2h14c1.1 0 2-.9 2-2V5c0-1.1-.9-2-2-2zM9 17H7v-7h2v7zm4 0h-2V7h2v10zm4 0h-2v-4h2v4z\"/>\n",
              "    </g>\n",
              "</svg>\n",
              "      </button>\n",
              "    </div>\n",
              "\n",
              "<style>\n",
              "  .colab-df-quickchart {\n",
              "    background-color: #E8F0FE;\n",
              "    border: none;\n",
              "    border-radius: 50%;\n",
              "    cursor: pointer;\n",
              "    display: none;\n",
              "    fill: #1967D2;\n",
              "    height: 32px;\n",
              "    padding: 0 0 0 0;\n",
              "    width: 32px;\n",
              "  }\n",
              "\n",
              "  .colab-df-quickchart:hover {\n",
              "    background-color: #E2EBFA;\n",
              "    box-shadow: 0px 1px 2px rgba(60, 64, 67, 0.3), 0px 1px 3px 1px rgba(60, 64, 67, 0.15);\n",
              "    fill: #174EA6;\n",
              "  }\n",
              "\n",
              "  [theme=dark] .colab-df-quickchart {\n",
              "    background-color: #3B4455;\n",
              "    fill: #D2E3FC;\n",
              "  }\n",
              "\n",
              "  [theme=dark] .colab-df-quickchart:hover {\n",
              "    background-color: #434B5C;\n",
              "    box-shadow: 0px 1px 3px 1px rgba(0, 0, 0, 0.15);\n",
              "    filter: drop-shadow(0px 1px 2px rgba(0, 0, 0, 0.3));\n",
              "    fill: #FFFFFF;\n",
              "  }\n",
              "</style>\n",
              "\n",
              "    <script>\n",
              "      async function quickchart(key) {\n",
              "        const containerElement = document.querySelector('#' + key);\n",
              "        const charts = await google.colab.kernel.invokeFunction(\n",
              "            'suggestCharts', [key], {});\n",
              "      }\n",
              "    </script>\n",
              "\n",
              "      <script>\n",
              "\n",
              "function displayQuickchartButton(domScope) {\n",
              "  let quickchartButtonEl =\n",
              "    domScope.querySelector('#df-d46d6920-150f-43db-b70e-54cf3371f211 button.colab-df-quickchart');\n",
              "  quickchartButtonEl.style.display =\n",
              "    google.colab.kernel.accessAllowed ? 'block' : 'none';\n",
              "}\n",
              "\n",
              "        displayQuickchartButton(document);\n",
              "      </script>\n",
              "      <style>\n",
              "    .colab-df-container {\n",
              "      display:flex;\n",
              "      flex-wrap:wrap;\n",
              "      gap: 12px;\n",
              "    }\n",
              "\n",
              "    .colab-df-convert {\n",
              "      background-color: #E8F0FE;\n",
              "      border: none;\n",
              "      border-radius: 50%;\n",
              "      cursor: pointer;\n",
              "      display: none;\n",
              "      fill: #1967D2;\n",
              "      height: 32px;\n",
              "      padding: 0 0 0 0;\n",
              "      width: 32px;\n",
              "    }\n",
              "\n",
              "    .colab-df-convert:hover {\n",
              "      background-color: #E2EBFA;\n",
              "      box-shadow: 0px 1px 2px rgba(60, 64, 67, 0.3), 0px 1px 3px 1px rgba(60, 64, 67, 0.15);\n",
              "      fill: #174EA6;\n",
              "    }\n",
              "\n",
              "    [theme=dark] .colab-df-convert {\n",
              "      background-color: #3B4455;\n",
              "      fill: #D2E3FC;\n",
              "    }\n",
              "\n",
              "    [theme=dark] .colab-df-convert:hover {\n",
              "      background-color: #434B5C;\n",
              "      box-shadow: 0px 1px 3px 1px rgba(0, 0, 0, 0.15);\n",
              "      filter: drop-shadow(0px 1px 2px rgba(0, 0, 0, 0.3));\n",
              "      fill: #FFFFFF;\n",
              "    }\n",
              "  </style>\n",
              "\n",
              "      <script>\n",
              "        const buttonEl =\n",
              "          document.querySelector('#df-e497c51f-be10-4ebc-9d10-4bdc73f6ba74 button.colab-df-convert');\n",
              "        buttonEl.style.display =\n",
              "          google.colab.kernel.accessAllowed ? 'block' : 'none';\n",
              "\n",
              "        async function convertToInteractive(key) {\n",
              "          const element = document.querySelector('#df-e497c51f-be10-4ebc-9d10-4bdc73f6ba74');\n",
              "          const dataTable =\n",
              "            await google.colab.kernel.invokeFunction('convertToInteractive',\n",
              "                                                     [key], {});\n",
              "          if (!dataTable) return;\n",
              "\n",
              "          const docLinkHtml = 'Like what you see? Visit the ' +\n",
              "            '<a target=\"_blank\" href=https://colab.research.google.com/notebooks/data_table.ipynb>data table notebook</a>'\n",
              "            + ' to learn more about interactive tables.';\n",
              "          element.innerHTML = '';\n",
              "          dataTable['output_type'] = 'display_data';\n",
              "          await google.colab.output.renderOutput(dataTable, element);\n",
              "          const docLink = document.createElement('div');\n",
              "          docLink.innerHTML = docLinkHtml;\n",
              "          element.appendChild(docLink);\n",
              "        }\n",
              "      </script>\n",
              "    </div>\n",
              "  </div>\n"
            ]
          },
          "metadata": {},
          "execution_count": 35
        }
      ]
    },
    {
      "cell_type": "code",
      "source": [
        "#Muestra toda la información\n",
        "df_1"
      ],
      "metadata": {
        "colab": {
          "base_uri": "https://localhost:8080/",
          "height": 488
        },
        "id": "WPwsoTvI0VHX",
        "outputId": "dd671636-9eab-4d4a-b48b-9552f5791d96"
      },
      "execution_count": 36,
      "outputs": [
        {
          "output_type": "execute_result",
          "data": {
            "text/plain": [
              "    cod_mpio zona llave     corte hogar           fex hog001 hog002 hog003  \\\n",
              "0      05001    1  0001  SIV_2022     1  761.19639279      1      4      2   \n",
              "1      05001    2  0002  SIV_2022     1  23.954887218      3      3      2   \n",
              "2      05001    1  0003  SIV_2022     1  761.19639279      4      2      2   \n",
              "3      05001    1  0003  SIV_2022     2  761.19639279      3      2      2   \n",
              "4      05001    1  0004  SIV_2022     1  761.19639279      3      3      2   \n",
              "..       ...  ...   ...       ...   ...           ...    ...    ...    ...   \n",
              "995    05001    1  0976  SIV_2022     1  761.19639279      3      5      3   \n",
              "996    05001    1  0977  SIV_2022     1  761.19639279      3      3      2   \n",
              "997    05001    2  0978  SIV_2022     1  23.954887218      3      4      3   \n",
              "998    05001    2  0979  SIV_2022     1  23.954887218      3      2      2   \n",
              "999    05001    2  0980  SIV_2022     1  23.954887218      1      3      3   \n",
              "\n",
              "    hog004  ... hog018 hog019 hog020 hog021 hog022 hog023 hog024 hog025  \\\n",
              "0        1  ...      1      2      1      2      2      2      2      2   \n",
              "1        2  ...      1      1      2      2      2      2      2      2   \n",
              "2        1  ...      1      2      2      2      2      2      2      2   \n",
              "3        1  ...      2      1      2      2      2      2      2      2   \n",
              "4        1  ...      1      1      1      2      2      2      2      2   \n",
              "..     ...  ...    ...    ...    ...    ...    ...    ...    ...    ...   \n",
              "995      1  ...      1      1      1      2      2      2      2      2   \n",
              "996      1  ...      1      1      1      2      2      2      2      2   \n",
              "997      1  ...      1      1      1      2      2      2      2      2   \n",
              "998      1  ...      1      2      2      2      2      2      2      2   \n",
              "999      1  ...      1      1      1      2      2      2      2      2   \n",
              "\n",
              "    hog026 hog027  \n",
              "0        2      2  \n",
              "1        2      4  \n",
              "2        2      1  \n",
              "3        2      2  \n",
              "4        2      3  \n",
              "..     ...    ...  \n",
              "995      2      1  \n",
              "996      2      3  \n",
              "997      2      4  \n",
              "998      2      2  \n",
              "999      2      3  \n",
              "\n",
              "[1000 rows x 33 columns]"
            ],
            "text/html": [
              "\n",
              "\n",
              "  <div id=\"df-96635ab3-e58c-4904-a2d2-819fcb87e299\">\n",
              "    <div class=\"colab-df-container\">\n",
              "      <div>\n",
              "<style scoped>\n",
              "    .dataframe tbody tr th:only-of-type {\n",
              "        vertical-align: middle;\n",
              "    }\n",
              "\n",
              "    .dataframe tbody tr th {\n",
              "        vertical-align: top;\n",
              "    }\n",
              "\n",
              "    .dataframe thead th {\n",
              "        text-align: right;\n",
              "    }\n",
              "</style>\n",
              "<table border=\"1\" class=\"dataframe\">\n",
              "  <thead>\n",
              "    <tr style=\"text-align: right;\">\n",
              "      <th></th>\n",
              "      <th>cod_mpio</th>\n",
              "      <th>zona</th>\n",
              "      <th>llave</th>\n",
              "      <th>corte</th>\n",
              "      <th>hogar</th>\n",
              "      <th>fex</th>\n",
              "      <th>hog001</th>\n",
              "      <th>hog002</th>\n",
              "      <th>hog003</th>\n",
              "      <th>hog004</th>\n",
              "      <th>...</th>\n",
              "      <th>hog018</th>\n",
              "      <th>hog019</th>\n",
              "      <th>hog020</th>\n",
              "      <th>hog021</th>\n",
              "      <th>hog022</th>\n",
              "      <th>hog023</th>\n",
              "      <th>hog024</th>\n",
              "      <th>hog025</th>\n",
              "      <th>hog026</th>\n",
              "      <th>hog027</th>\n",
              "    </tr>\n",
              "  </thead>\n",
              "  <tbody>\n",
              "    <tr>\n",
              "      <th>0</th>\n",
              "      <td>05001</td>\n",
              "      <td>1</td>\n",
              "      <td>0001</td>\n",
              "      <td>SIV_2022</td>\n",
              "      <td>1</td>\n",
              "      <td>761.19639279</td>\n",
              "      <td>1</td>\n",
              "      <td>4</td>\n",
              "      <td>2</td>\n",
              "      <td>1</td>\n",
              "      <td>...</td>\n",
              "      <td>1</td>\n",
              "      <td>2</td>\n",
              "      <td>1</td>\n",
              "      <td>2</td>\n",
              "      <td>2</td>\n",
              "      <td>2</td>\n",
              "      <td>2</td>\n",
              "      <td>2</td>\n",
              "      <td>2</td>\n",
              "      <td>2</td>\n",
              "    </tr>\n",
              "    <tr>\n",
              "      <th>1</th>\n",
              "      <td>05001</td>\n",
              "      <td>2</td>\n",
              "      <td>0002</td>\n",
              "      <td>SIV_2022</td>\n",
              "      <td>1</td>\n",
              "      <td>23.954887218</td>\n",
              "      <td>3</td>\n",
              "      <td>3</td>\n",
              "      <td>2</td>\n",
              "      <td>2</td>\n",
              "      <td>...</td>\n",
              "      <td>1</td>\n",
              "      <td>1</td>\n",
              "      <td>2</td>\n",
              "      <td>2</td>\n",
              "      <td>2</td>\n",
              "      <td>2</td>\n",
              "      <td>2</td>\n",
              "      <td>2</td>\n",
              "      <td>2</td>\n",
              "      <td>4</td>\n",
              "    </tr>\n",
              "    <tr>\n",
              "      <th>2</th>\n",
              "      <td>05001</td>\n",
              "      <td>1</td>\n",
              "      <td>0003</td>\n",
              "      <td>SIV_2022</td>\n",
              "      <td>1</td>\n",
              "      <td>761.19639279</td>\n",
              "      <td>4</td>\n",
              "      <td>2</td>\n",
              "      <td>2</td>\n",
              "      <td>1</td>\n",
              "      <td>...</td>\n",
              "      <td>1</td>\n",
              "      <td>2</td>\n",
              "      <td>2</td>\n",
              "      <td>2</td>\n",
              "      <td>2</td>\n",
              "      <td>2</td>\n",
              "      <td>2</td>\n",
              "      <td>2</td>\n",
              "      <td>2</td>\n",
              "      <td>1</td>\n",
              "    </tr>\n",
              "    <tr>\n",
              "      <th>3</th>\n",
              "      <td>05001</td>\n",
              "      <td>1</td>\n",
              "      <td>0003</td>\n",
              "      <td>SIV_2022</td>\n",
              "      <td>2</td>\n",
              "      <td>761.19639279</td>\n",
              "      <td>3</td>\n",
              "      <td>2</td>\n",
              "      <td>2</td>\n",
              "      <td>1</td>\n",
              "      <td>...</td>\n",
              "      <td>2</td>\n",
              "      <td>1</td>\n",
              "      <td>2</td>\n",
              "      <td>2</td>\n",
              "      <td>2</td>\n",
              "      <td>2</td>\n",
              "      <td>2</td>\n",
              "      <td>2</td>\n",
              "      <td>2</td>\n",
              "      <td>2</td>\n",
              "    </tr>\n",
              "    <tr>\n",
              "      <th>4</th>\n",
              "      <td>05001</td>\n",
              "      <td>1</td>\n",
              "      <td>0004</td>\n",
              "      <td>SIV_2022</td>\n",
              "      <td>1</td>\n",
              "      <td>761.19639279</td>\n",
              "      <td>3</td>\n",
              "      <td>3</td>\n",
              "      <td>2</td>\n",
              "      <td>1</td>\n",
              "      <td>...</td>\n",
              "      <td>1</td>\n",
              "      <td>1</td>\n",
              "      <td>1</td>\n",
              "      <td>2</td>\n",
              "      <td>2</td>\n",
              "      <td>2</td>\n",
              "      <td>2</td>\n",
              "      <td>2</td>\n",
              "      <td>2</td>\n",
              "      <td>3</td>\n",
              "    </tr>\n",
              "    <tr>\n",
              "      <th>...</th>\n",
              "      <td>...</td>\n",
              "      <td>...</td>\n",
              "      <td>...</td>\n",
              "      <td>...</td>\n",
              "      <td>...</td>\n",
              "      <td>...</td>\n",
              "      <td>...</td>\n",
              "      <td>...</td>\n",
              "      <td>...</td>\n",
              "      <td>...</td>\n",
              "      <td>...</td>\n",
              "      <td>...</td>\n",
              "      <td>...</td>\n",
              "      <td>...</td>\n",
              "      <td>...</td>\n",
              "      <td>...</td>\n",
              "      <td>...</td>\n",
              "      <td>...</td>\n",
              "      <td>...</td>\n",
              "      <td>...</td>\n",
              "      <td>...</td>\n",
              "    </tr>\n",
              "    <tr>\n",
              "      <th>995</th>\n",
              "      <td>05001</td>\n",
              "      <td>1</td>\n",
              "      <td>0976</td>\n",
              "      <td>SIV_2022</td>\n",
              "      <td>1</td>\n",
              "      <td>761.19639279</td>\n",
              "      <td>3</td>\n",
              "      <td>5</td>\n",
              "      <td>3</td>\n",
              "      <td>1</td>\n",
              "      <td>...</td>\n",
              "      <td>1</td>\n",
              "      <td>1</td>\n",
              "      <td>1</td>\n",
              "      <td>2</td>\n",
              "      <td>2</td>\n",
              "      <td>2</td>\n",
              "      <td>2</td>\n",
              "      <td>2</td>\n",
              "      <td>2</td>\n",
              "      <td>1</td>\n",
              "    </tr>\n",
              "    <tr>\n",
              "      <th>996</th>\n",
              "      <td>05001</td>\n",
              "      <td>1</td>\n",
              "      <td>0977</td>\n",
              "      <td>SIV_2022</td>\n",
              "      <td>1</td>\n",
              "      <td>761.19639279</td>\n",
              "      <td>3</td>\n",
              "      <td>3</td>\n",
              "      <td>2</td>\n",
              "      <td>1</td>\n",
              "      <td>...</td>\n",
              "      <td>1</td>\n",
              "      <td>1</td>\n",
              "      <td>1</td>\n",
              "      <td>2</td>\n",
              "      <td>2</td>\n",
              "      <td>2</td>\n",
              "      <td>2</td>\n",
              "      <td>2</td>\n",
              "      <td>2</td>\n",
              "      <td>3</td>\n",
              "    </tr>\n",
              "    <tr>\n",
              "      <th>997</th>\n",
              "      <td>05001</td>\n",
              "      <td>2</td>\n",
              "      <td>0978</td>\n",
              "      <td>SIV_2022</td>\n",
              "      <td>1</td>\n",
              "      <td>23.954887218</td>\n",
              "      <td>3</td>\n",
              "      <td>4</td>\n",
              "      <td>3</td>\n",
              "      <td>1</td>\n",
              "      <td>...</td>\n",
              "      <td>1</td>\n",
              "      <td>1</td>\n",
              "      <td>1</td>\n",
              "      <td>2</td>\n",
              "      <td>2</td>\n",
              "      <td>2</td>\n",
              "      <td>2</td>\n",
              "      <td>2</td>\n",
              "      <td>2</td>\n",
              "      <td>4</td>\n",
              "    </tr>\n",
              "    <tr>\n",
              "      <th>998</th>\n",
              "      <td>05001</td>\n",
              "      <td>2</td>\n",
              "      <td>0979</td>\n",
              "      <td>SIV_2022</td>\n",
              "      <td>1</td>\n",
              "      <td>23.954887218</td>\n",
              "      <td>3</td>\n",
              "      <td>2</td>\n",
              "      <td>2</td>\n",
              "      <td>1</td>\n",
              "      <td>...</td>\n",
              "      <td>1</td>\n",
              "      <td>2</td>\n",
              "      <td>2</td>\n",
              "      <td>2</td>\n",
              "      <td>2</td>\n",
              "      <td>2</td>\n",
              "      <td>2</td>\n",
              "      <td>2</td>\n",
              "      <td>2</td>\n",
              "      <td>2</td>\n",
              "    </tr>\n",
              "    <tr>\n",
              "      <th>999</th>\n",
              "      <td>05001</td>\n",
              "      <td>2</td>\n",
              "      <td>0980</td>\n",
              "      <td>SIV_2022</td>\n",
              "      <td>1</td>\n",
              "      <td>23.954887218</td>\n",
              "      <td>1</td>\n",
              "      <td>3</td>\n",
              "      <td>3</td>\n",
              "      <td>1</td>\n",
              "      <td>...</td>\n",
              "      <td>1</td>\n",
              "      <td>1</td>\n",
              "      <td>1</td>\n",
              "      <td>2</td>\n",
              "      <td>2</td>\n",
              "      <td>2</td>\n",
              "      <td>2</td>\n",
              "      <td>2</td>\n",
              "      <td>2</td>\n",
              "      <td>3</td>\n",
              "    </tr>\n",
              "  </tbody>\n",
              "</table>\n",
              "<p>1000 rows × 33 columns</p>\n",
              "</div>\n",
              "      <button class=\"colab-df-convert\" onclick=\"convertToInteractive('df-96635ab3-e58c-4904-a2d2-819fcb87e299')\"\n",
              "              title=\"Convert this dataframe to an interactive table.\"\n",
              "              style=\"display:none;\">\n",
              "\n",
              "  <svg xmlns=\"http://www.w3.org/2000/svg\" height=\"24px\"viewBox=\"0 0 24 24\"\n",
              "       width=\"24px\">\n",
              "    <path d=\"M0 0h24v24H0V0z\" fill=\"none\"/>\n",
              "    <path d=\"M18.56 5.44l.94 2.06.94-2.06 2.06-.94-2.06-.94-.94-2.06-.94 2.06-2.06.94zm-11 1L8.5 8.5l.94-2.06 2.06-.94-2.06-.94L8.5 2.5l-.94 2.06-2.06.94zm10 10l.94 2.06.94-2.06 2.06-.94-2.06-.94-.94-2.06-.94 2.06-2.06.94z\"/><path d=\"M17.41 7.96l-1.37-1.37c-.4-.4-.92-.59-1.43-.59-.52 0-1.04.2-1.43.59L10.3 9.45l-7.72 7.72c-.78.78-.78 2.05 0 2.83L4 21.41c.39.39.9.59 1.41.59.51 0 1.02-.2 1.41-.59l7.78-7.78 2.81-2.81c.8-.78.8-2.07 0-2.86zM5.41 20L4 18.59l7.72-7.72 1.47 1.35L5.41 20z\"/>\n",
              "  </svg>\n",
              "      </button>\n",
              "\n",
              "\n",
              "\n",
              "    <div id=\"df-e642187a-a668-461d-bb28-004da89bd1c4\">\n",
              "      <button class=\"colab-df-quickchart\" onclick=\"quickchart('df-e642187a-a668-461d-bb28-004da89bd1c4')\"\n",
              "              title=\"Suggest charts.\"\n",
              "              style=\"display:none;\">\n",
              "\n",
              "<svg xmlns=\"http://www.w3.org/2000/svg\" height=\"24px\"viewBox=\"0 0 24 24\"\n",
              "     width=\"24px\">\n",
              "    <g>\n",
              "        <path d=\"M19 3H5c-1.1 0-2 .9-2 2v14c0 1.1.9 2 2 2h14c1.1 0 2-.9 2-2V5c0-1.1-.9-2-2-2zM9 17H7v-7h2v7zm4 0h-2V7h2v10zm4 0h-2v-4h2v4z\"/>\n",
              "    </g>\n",
              "</svg>\n",
              "      </button>\n",
              "    </div>\n",
              "\n",
              "<style>\n",
              "  .colab-df-quickchart {\n",
              "    background-color: #E8F0FE;\n",
              "    border: none;\n",
              "    border-radius: 50%;\n",
              "    cursor: pointer;\n",
              "    display: none;\n",
              "    fill: #1967D2;\n",
              "    height: 32px;\n",
              "    padding: 0 0 0 0;\n",
              "    width: 32px;\n",
              "  }\n",
              "\n",
              "  .colab-df-quickchart:hover {\n",
              "    background-color: #E2EBFA;\n",
              "    box-shadow: 0px 1px 2px rgba(60, 64, 67, 0.3), 0px 1px 3px 1px rgba(60, 64, 67, 0.15);\n",
              "    fill: #174EA6;\n",
              "  }\n",
              "\n",
              "  [theme=dark] .colab-df-quickchart {\n",
              "    background-color: #3B4455;\n",
              "    fill: #D2E3FC;\n",
              "  }\n",
              "\n",
              "  [theme=dark] .colab-df-quickchart:hover {\n",
              "    background-color: #434B5C;\n",
              "    box-shadow: 0px 1px 3px 1px rgba(0, 0, 0, 0.15);\n",
              "    filter: drop-shadow(0px 1px 2px rgba(0, 0, 0, 0.3));\n",
              "    fill: #FFFFFF;\n",
              "  }\n",
              "</style>\n",
              "\n",
              "    <script>\n",
              "      async function quickchart(key) {\n",
              "        const containerElement = document.querySelector('#' + key);\n",
              "        const charts = await google.colab.kernel.invokeFunction(\n",
              "            'suggestCharts', [key], {});\n",
              "      }\n",
              "    </script>\n",
              "\n",
              "      <script>\n",
              "\n",
              "function displayQuickchartButton(domScope) {\n",
              "  let quickchartButtonEl =\n",
              "    domScope.querySelector('#df-e642187a-a668-461d-bb28-004da89bd1c4 button.colab-df-quickchart');\n",
              "  quickchartButtonEl.style.display =\n",
              "    google.colab.kernel.accessAllowed ? 'block' : 'none';\n",
              "}\n",
              "\n",
              "        displayQuickchartButton(document);\n",
              "      </script>\n",
              "      <style>\n",
              "    .colab-df-container {\n",
              "      display:flex;\n",
              "      flex-wrap:wrap;\n",
              "      gap: 12px;\n",
              "    }\n",
              "\n",
              "    .colab-df-convert {\n",
              "      background-color: #E8F0FE;\n",
              "      border: none;\n",
              "      border-radius: 50%;\n",
              "      cursor: pointer;\n",
              "      display: none;\n",
              "      fill: #1967D2;\n",
              "      height: 32px;\n",
              "      padding: 0 0 0 0;\n",
              "      width: 32px;\n",
              "    }\n",
              "\n",
              "    .colab-df-convert:hover {\n",
              "      background-color: #E2EBFA;\n",
              "      box-shadow: 0px 1px 2px rgba(60, 64, 67, 0.3), 0px 1px 3px 1px rgba(60, 64, 67, 0.15);\n",
              "      fill: #174EA6;\n",
              "    }\n",
              "\n",
              "    [theme=dark] .colab-df-convert {\n",
              "      background-color: #3B4455;\n",
              "      fill: #D2E3FC;\n",
              "    }\n",
              "\n",
              "    [theme=dark] .colab-df-convert:hover {\n",
              "      background-color: #434B5C;\n",
              "      box-shadow: 0px 1px 3px 1px rgba(0, 0, 0, 0.15);\n",
              "      filter: drop-shadow(0px 1px 2px rgba(0, 0, 0, 0.3));\n",
              "      fill: #FFFFFF;\n",
              "    }\n",
              "  </style>\n",
              "\n",
              "      <script>\n",
              "        const buttonEl =\n",
              "          document.querySelector('#df-96635ab3-e58c-4904-a2d2-819fcb87e299 button.colab-df-convert');\n",
              "        buttonEl.style.display =\n",
              "          google.colab.kernel.accessAllowed ? 'block' : 'none';\n",
              "\n",
              "        async function convertToInteractive(key) {\n",
              "          const element = document.querySelector('#df-96635ab3-e58c-4904-a2d2-819fcb87e299');\n",
              "          const dataTable =\n",
              "            await google.colab.kernel.invokeFunction('convertToInteractive',\n",
              "                                                     [key], {});\n",
              "          if (!dataTable) return;\n",
              "\n",
              "          const docLinkHtml = 'Like what you see? Visit the ' +\n",
              "            '<a target=\"_blank\" href=https://colab.research.google.com/notebooks/data_table.ipynb>data table notebook</a>'\n",
              "            + ' to learn more about interactive tables.';\n",
              "          element.innerHTML = '';\n",
              "          dataTable['output_type'] = 'display_data';\n",
              "          await google.colab.output.renderOutput(dataTable, element);\n",
              "          const docLink = document.createElement('div');\n",
              "          docLink.innerHTML = docLinkHtml;\n",
              "          element.appendChild(docLink);\n",
              "        }\n",
              "      </script>\n",
              "    </div>\n",
              "  </div>\n"
            ]
          },
          "metadata": {},
          "execution_count": 36
        }
      ]
    },
    {
      "cell_type": "code",
      "source": [
        "#Se hace la clasificacion y transformación del Dataset\n",
        "#Construir el dataframe tomando algunos datos\n",
        "new_df=pd.DataFrame(df_1['zona'].astype(int).rename('Zona')) #Conversión de datos str a numericos\n",
        "new_df['Miembros de la vivienda']=df_1['hog027'].astype(int)\n",
        "new_df['Cantidad de cuartos de la vivienda']=df_1['hog002'].astype(int)\n",
        "new_df['Incluyendo sala y comedor']=df_1['hog002'].astype(int)\n",
        "new_df['Cuántos días llega el agua']=df_1['hog009'].astype(int)\n",
        "new_df['¿El hogar tiene cocina?']=df_1['hog014'].astype(int)\n",
        "new_df['¿El hogar posee nevera?']=df_1['hog018'].astype(int)\n",
        "new_df['¿La vivienda se afectó por el evento inundación?']=df_1['hog021'].astype(int)\n",
        "\n",
        "new_df.head()\n"
      ],
      "metadata": {
        "colab": {
          "base_uri": "https://localhost:8080/",
          "height": 268
        },
        "id": "OwglELY0vDcd",
        "outputId": "a9ddd916-f72d-42dc-ee59-477de474211d"
      },
      "execution_count": 37,
      "outputs": [
        {
          "output_type": "execute_result",
          "data": {
            "text/plain": [
              "   Zona  Miembros de la vivienda  Cantidad de cuartos de la vivienda  \\\n",
              "0     1                        2                                   4   \n",
              "1     2                        4                                   3   \n",
              "2     1                        1                                   2   \n",
              "3     1                        2                                   2   \n",
              "4     1                        3                                   3   \n",
              "\n",
              "   Incluyendo sala y comedor  Cuántos días llega el agua  \\\n",
              "0                          4                           9   \n",
              "1                          3                           9   \n",
              "2                          2                           9   \n",
              "3                          2                           9   \n",
              "4                          3                           9   \n",
              "\n",
              "   ¿El hogar tiene cocina?  ¿El hogar posee nevera?  \\\n",
              "0                        1                        1   \n",
              "1                        1                        1   \n",
              "2                        1                        1   \n",
              "3                        1                        2   \n",
              "4                        1                        1   \n",
              "\n",
              "   ¿La vivienda se afectó por el evento inundación?  \n",
              "0                                                 2  \n",
              "1                                                 2  \n",
              "2                                                 2  \n",
              "3                                                 2  \n",
              "4                                                 2  "
            ],
            "text/html": [
              "\n",
              "\n",
              "  <div id=\"df-8e4aca57-aed6-45f5-87d4-57497945558d\">\n",
              "    <div class=\"colab-df-container\">\n",
              "      <div>\n",
              "<style scoped>\n",
              "    .dataframe tbody tr th:only-of-type {\n",
              "        vertical-align: middle;\n",
              "    }\n",
              "\n",
              "    .dataframe tbody tr th {\n",
              "        vertical-align: top;\n",
              "    }\n",
              "\n",
              "    .dataframe thead th {\n",
              "        text-align: right;\n",
              "    }\n",
              "</style>\n",
              "<table border=\"1\" class=\"dataframe\">\n",
              "  <thead>\n",
              "    <tr style=\"text-align: right;\">\n",
              "      <th></th>\n",
              "      <th>Zona</th>\n",
              "      <th>Miembros de la vivienda</th>\n",
              "      <th>Cantidad de cuartos de la vivienda</th>\n",
              "      <th>Incluyendo sala y comedor</th>\n",
              "      <th>Cuántos días llega el agua</th>\n",
              "      <th>¿El hogar tiene cocina?</th>\n",
              "      <th>¿El hogar posee nevera?</th>\n",
              "      <th>¿La vivienda se afectó por el evento inundación?</th>\n",
              "    </tr>\n",
              "  </thead>\n",
              "  <tbody>\n",
              "    <tr>\n",
              "      <th>0</th>\n",
              "      <td>1</td>\n",
              "      <td>2</td>\n",
              "      <td>4</td>\n",
              "      <td>4</td>\n",
              "      <td>9</td>\n",
              "      <td>1</td>\n",
              "      <td>1</td>\n",
              "      <td>2</td>\n",
              "    </tr>\n",
              "    <tr>\n",
              "      <th>1</th>\n",
              "      <td>2</td>\n",
              "      <td>4</td>\n",
              "      <td>3</td>\n",
              "      <td>3</td>\n",
              "      <td>9</td>\n",
              "      <td>1</td>\n",
              "      <td>1</td>\n",
              "      <td>2</td>\n",
              "    </tr>\n",
              "    <tr>\n",
              "      <th>2</th>\n",
              "      <td>1</td>\n",
              "      <td>1</td>\n",
              "      <td>2</td>\n",
              "      <td>2</td>\n",
              "      <td>9</td>\n",
              "      <td>1</td>\n",
              "      <td>1</td>\n",
              "      <td>2</td>\n",
              "    </tr>\n",
              "    <tr>\n",
              "      <th>3</th>\n",
              "      <td>1</td>\n",
              "      <td>2</td>\n",
              "      <td>2</td>\n",
              "      <td>2</td>\n",
              "      <td>9</td>\n",
              "      <td>1</td>\n",
              "      <td>2</td>\n",
              "      <td>2</td>\n",
              "    </tr>\n",
              "    <tr>\n",
              "      <th>4</th>\n",
              "      <td>1</td>\n",
              "      <td>3</td>\n",
              "      <td>3</td>\n",
              "      <td>3</td>\n",
              "      <td>9</td>\n",
              "      <td>1</td>\n",
              "      <td>1</td>\n",
              "      <td>2</td>\n",
              "    </tr>\n",
              "  </tbody>\n",
              "</table>\n",
              "</div>\n",
              "      <button class=\"colab-df-convert\" onclick=\"convertToInteractive('df-8e4aca57-aed6-45f5-87d4-57497945558d')\"\n",
              "              title=\"Convert this dataframe to an interactive table.\"\n",
              "              style=\"display:none;\">\n",
              "\n",
              "  <svg xmlns=\"http://www.w3.org/2000/svg\" height=\"24px\"viewBox=\"0 0 24 24\"\n",
              "       width=\"24px\">\n",
              "    <path d=\"M0 0h24v24H0V0z\" fill=\"none\"/>\n",
              "    <path d=\"M18.56 5.44l.94 2.06.94-2.06 2.06-.94-2.06-.94-.94-2.06-.94 2.06-2.06.94zm-11 1L8.5 8.5l.94-2.06 2.06-.94-2.06-.94L8.5 2.5l-.94 2.06-2.06.94zm10 10l.94 2.06.94-2.06 2.06-.94-2.06-.94-.94-2.06-.94 2.06-2.06.94z\"/><path d=\"M17.41 7.96l-1.37-1.37c-.4-.4-.92-.59-1.43-.59-.52 0-1.04.2-1.43.59L10.3 9.45l-7.72 7.72c-.78.78-.78 2.05 0 2.83L4 21.41c.39.39.9.59 1.41.59.51 0 1.02-.2 1.41-.59l7.78-7.78 2.81-2.81c.8-.78.8-2.07 0-2.86zM5.41 20L4 18.59l7.72-7.72 1.47 1.35L5.41 20z\"/>\n",
              "  </svg>\n",
              "      </button>\n",
              "\n",
              "\n",
              "\n",
              "    <div id=\"df-1da922e8-fc9b-4834-9309-639f8894b9e6\">\n",
              "      <button class=\"colab-df-quickchart\" onclick=\"quickchart('df-1da922e8-fc9b-4834-9309-639f8894b9e6')\"\n",
              "              title=\"Suggest charts.\"\n",
              "              style=\"display:none;\">\n",
              "\n",
              "<svg xmlns=\"http://www.w3.org/2000/svg\" height=\"24px\"viewBox=\"0 0 24 24\"\n",
              "     width=\"24px\">\n",
              "    <g>\n",
              "        <path d=\"M19 3H5c-1.1 0-2 .9-2 2v14c0 1.1.9 2 2 2h14c1.1 0 2-.9 2-2V5c0-1.1-.9-2-2-2zM9 17H7v-7h2v7zm4 0h-2V7h2v10zm4 0h-2v-4h2v4z\"/>\n",
              "    </g>\n",
              "</svg>\n",
              "      </button>\n",
              "    </div>\n",
              "\n",
              "<style>\n",
              "  .colab-df-quickchart {\n",
              "    background-color: #E8F0FE;\n",
              "    border: none;\n",
              "    border-radius: 50%;\n",
              "    cursor: pointer;\n",
              "    display: none;\n",
              "    fill: #1967D2;\n",
              "    height: 32px;\n",
              "    padding: 0 0 0 0;\n",
              "    width: 32px;\n",
              "  }\n",
              "\n",
              "  .colab-df-quickchart:hover {\n",
              "    background-color: #E2EBFA;\n",
              "    box-shadow: 0px 1px 2px rgba(60, 64, 67, 0.3), 0px 1px 3px 1px rgba(60, 64, 67, 0.15);\n",
              "    fill: #174EA6;\n",
              "  }\n",
              "\n",
              "  [theme=dark] .colab-df-quickchart {\n",
              "    background-color: #3B4455;\n",
              "    fill: #D2E3FC;\n",
              "  }\n",
              "\n",
              "  [theme=dark] .colab-df-quickchart:hover {\n",
              "    background-color: #434B5C;\n",
              "    box-shadow: 0px 1px 3px 1px rgba(0, 0, 0, 0.15);\n",
              "    filter: drop-shadow(0px 1px 2px rgba(0, 0, 0, 0.3));\n",
              "    fill: #FFFFFF;\n",
              "  }\n",
              "</style>\n",
              "\n",
              "    <script>\n",
              "      async function quickchart(key) {\n",
              "        const containerElement = document.querySelector('#' + key);\n",
              "        const charts = await google.colab.kernel.invokeFunction(\n",
              "            'suggestCharts', [key], {});\n",
              "      }\n",
              "    </script>\n",
              "\n",
              "      <script>\n",
              "\n",
              "function displayQuickchartButton(domScope) {\n",
              "  let quickchartButtonEl =\n",
              "    domScope.querySelector('#df-1da922e8-fc9b-4834-9309-639f8894b9e6 button.colab-df-quickchart');\n",
              "  quickchartButtonEl.style.display =\n",
              "    google.colab.kernel.accessAllowed ? 'block' : 'none';\n",
              "}\n",
              "\n",
              "        displayQuickchartButton(document);\n",
              "      </script>\n",
              "      <style>\n",
              "    .colab-df-container {\n",
              "      display:flex;\n",
              "      flex-wrap:wrap;\n",
              "      gap: 12px;\n",
              "    }\n",
              "\n",
              "    .colab-df-convert {\n",
              "      background-color: #E8F0FE;\n",
              "      border: none;\n",
              "      border-radius: 50%;\n",
              "      cursor: pointer;\n",
              "      display: none;\n",
              "      fill: #1967D2;\n",
              "      height: 32px;\n",
              "      padding: 0 0 0 0;\n",
              "      width: 32px;\n",
              "    }\n",
              "\n",
              "    .colab-df-convert:hover {\n",
              "      background-color: #E2EBFA;\n",
              "      box-shadow: 0px 1px 2px rgba(60, 64, 67, 0.3), 0px 1px 3px 1px rgba(60, 64, 67, 0.15);\n",
              "      fill: #174EA6;\n",
              "    }\n",
              "\n",
              "    [theme=dark] .colab-df-convert {\n",
              "      background-color: #3B4455;\n",
              "      fill: #D2E3FC;\n",
              "    }\n",
              "\n",
              "    [theme=dark] .colab-df-convert:hover {\n",
              "      background-color: #434B5C;\n",
              "      box-shadow: 0px 1px 3px 1px rgba(0, 0, 0, 0.15);\n",
              "      filter: drop-shadow(0px 1px 2px rgba(0, 0, 0, 0.3));\n",
              "      fill: #FFFFFF;\n",
              "    }\n",
              "  </style>\n",
              "\n",
              "      <script>\n",
              "        const buttonEl =\n",
              "          document.querySelector('#df-8e4aca57-aed6-45f5-87d4-57497945558d button.colab-df-convert');\n",
              "        buttonEl.style.display =\n",
              "          google.colab.kernel.accessAllowed ? 'block' : 'none';\n",
              "\n",
              "        async function convertToInteractive(key) {\n",
              "          const element = document.querySelector('#df-8e4aca57-aed6-45f5-87d4-57497945558d');\n",
              "          const dataTable =\n",
              "            await google.colab.kernel.invokeFunction('convertToInteractive',\n",
              "                                                     [key], {});\n",
              "          if (!dataTable) return;\n",
              "\n",
              "          const docLinkHtml = 'Like what you see? Visit the ' +\n",
              "            '<a target=\"_blank\" href=https://colab.research.google.com/notebooks/data_table.ipynb>data table notebook</a>'\n",
              "            + ' to learn more about interactive tables.';\n",
              "          element.innerHTML = '';\n",
              "          dataTable['output_type'] = 'display_data';\n",
              "          await google.colab.output.renderOutput(dataTable, element);\n",
              "          const docLink = document.createElement('div');\n",
              "          docLink.innerHTML = docLinkHtml;\n",
              "          element.appendChild(docLink);\n",
              "        }\n",
              "      </script>\n",
              "    </div>\n",
              "  </div>\n"
            ]
          },
          "metadata": {},
          "execution_count": 37
        }
      ]
    },
    {
      "cell_type": "code",
      "source": [
        "#Con la función info se verifica que están transformados los datos a entero\n",
        "new_df.info()"
      ],
      "metadata": {
        "colab": {
          "base_uri": "https://localhost:8080/"
        },
        "id": "xOD3iBd1z1zt",
        "outputId": "14d2afde-34df-426c-874c-375838f0ed76"
      },
      "execution_count": 38,
      "outputs": [
        {
          "output_type": "stream",
          "name": "stdout",
          "text": [
            "<class 'pandas.core.frame.DataFrame'>\n",
            "RangeIndex: 1000 entries, 0 to 999\n",
            "Data columns (total 8 columns):\n",
            " #   Column                                            Non-Null Count  Dtype\n",
            "---  ------                                            --------------  -----\n",
            " 0   Zona                                              1000 non-null   int64\n",
            " 1   Miembros de la vivienda                           1000 non-null   int64\n",
            " 2   Cantidad de cuartos de la vivienda                1000 non-null   int64\n",
            " 3   Incluyendo sala y comedor                         1000 non-null   int64\n",
            " 4   Cuántos días llega el agua                        1000 non-null   int64\n",
            " 5   ¿El hogar tiene cocina?                           1000 non-null   int64\n",
            " 6   ¿El hogar posee nevera?                           1000 non-null   int64\n",
            " 7   ¿La vivienda se afectó por el evento inundación?  1000 non-null   int64\n",
            "dtypes: int64(8)\n",
            "memory usage: 62.6 KB\n"
          ]
        }
      ]
    },
    {
      "cell_type": "code",
      "source": [
        "#Se crean los arreglos de numpy\n",
        "col1=pd.to_numeric(new_df['Zona'], errors='coerce')\n",
        "col2=pd.to_numeric(new_df['Cantidad de cuartos de la vivienda'], errors='coerce')\n",
        "col3=pd.to_numeric(new_df['Incluyendo sala y comedor'], errors='coerce')\n",
        "col4=pd.to_numeric(new_df['Cuántos días llega el agua'], errors='coerce')\n",
        "col5=pd.to_numeric(new_df['¿El hogar tiene cocina?'], errors='coerce')\n",
        "col6=pd.to_numeric(new_df['¿El hogar posee nevera?'], errors='coerce')\n",
        "col7=pd.to_numeric(new_df['¿La vivienda se afectó por el evento inundación?'], errors='coerce')\n",
        "x1=np.array(col1)\n",
        "x2=np.array(col2)\n",
        "x3=np.array(col3)\n",
        "x4=np.array(col4)\n",
        "x5=np.array(col5)\n",
        "x6=np.array(col6)\n",
        "x7=np.array(col7)"
      ],
      "metadata": {
        "id": "SnM4SNWSVnKQ"
      },
      "execution_count": 39,
      "outputs": []
    },
    {
      "cell_type": "code",
      "source": [
        "#Se crea la matriz para los datos de entrada X\n",
        "Salida=[]\n",
        "for i in range(len(col1)):\n",
        "    aux=[]\n",
        "    aux.append(x1[i])\n",
        "    aux.append(x2[i])\n",
        "    aux.append(x3[i])\n",
        "    aux.append(x4[i])\n",
        "    aux.append(x5[i])\n",
        "    aux.append(x6[i])\n",
        "    aux.append(x7[i])\n",
        "    Salida.append(aux)\n",
        "X=np.array(Salida)\n",
        "X"
      ],
      "metadata": {
        "colab": {
          "base_uri": "https://localhost:8080/"
        },
        "id": "pRgn6OPmWVQx",
        "outputId": "6b262e86-91e7-48e4-ade5-9bc5fdf8b7c4"
      },
      "execution_count": 40,
      "outputs": [
        {
          "output_type": "execute_result",
          "data": {
            "text/plain": [
              "array([[1, 4, 4, ..., 1, 1, 2],\n",
              "       [2, 3, 3, ..., 1, 1, 2],\n",
              "       [1, 2, 2, ..., 1, 1, 2],\n",
              "       ...,\n",
              "       [2, 4, 4, ..., 1, 1, 2],\n",
              "       [2, 2, 2, ..., 1, 1, 2],\n",
              "       [2, 3, 3, ..., 1, 1, 2]])"
            ]
          },
          "metadata": {},
          "execution_count": 40
        }
      ]
    },
    {
      "cell_type": "code",
      "source": [
        "#se crea la salida y, la cual es la cantidad de integrantes que hay en la vivienda\n",
        "#Convertir los datos del data Frame a numpy\n",
        "salida=pd.to_numeric(new_df['Miembros de la vivienda'], errors='coerce')\n",
        "print(type(salida))\n",
        "y=np.array(salida)\n",
        "print(type(y))"
      ],
      "metadata": {
        "colab": {
          "base_uri": "https://localhost:8080/"
        },
        "id": "wVDYbOWzXqIZ",
        "outputId": "d26ab299-b8c1-4bb6-ff9e-07f947479ee1"
      },
      "execution_count": 41,
      "outputs": [
        {
          "output_type": "stream",
          "name": "stdout",
          "text": [
            "<class 'pandas.core.series.Series'>\n",
            "<class 'numpy.ndarray'>\n"
          ]
        }
      ]
    },
    {
      "cell_type": "code",
      "source": [
        "#Confirmar los valores de entrada y salida en la posición 0\n",
        "print(X[0])\n",
        "print('---------')\n",
        "print(y[0])"
      ],
      "metadata": {
        "colab": {
          "base_uri": "https://localhost:8080/"
        },
        "id": "C7ZxgmUHWlxe",
        "outputId": "3829c84c-554e-40ae-83c2-69e0dbb22261"
      },
      "execution_count": 42,
      "outputs": [
        {
          "output_type": "stream",
          "name": "stdout",
          "text": [
            "[1 4 4 9 1 1 2]\n",
            "---------\n",
            "2\n"
          ]
        }
      ]
    },
    {
      "cell_type": "markdown",
      "source": [
        "## Dividir el conjunto entre datos de entrenamiento y datos de prueba, los datos de prueba serán el 15% del dataset"
      ],
      "metadata": {
        "id": "pbJzJMqCdAhq"
      }
    },
    {
      "cell_type": "code",
      "source": [
        "##Dividir el data set en conjunto de datos de prueba y de entrenamaiento\n",
        "#train entrenamiento y test prueba\n",
        "from sklearn.neighbors import KNeighborsClassifier\n",
        "from sklearn.model_selection import train_test_split\n",
        "X_train,X_test,y_train,y_test=train_test_split(X,y, test_size=0.15)  #15% datos de prueba\n"
      ],
      "metadata": {
        "id": "GGlNcLFL8J45"
      },
      "execution_count": 43,
      "outputs": []
    },
    {
      "cell_type": "code",
      "source": [
        "#Los Datos de prueba\n",
        "print(X_test)\n",
        "print('--------------------------')\n",
        "print(y_test)"
      ],
      "metadata": {
        "colab": {
          "base_uri": "https://localhost:8080/"
        },
        "id": "iB6mbGnVET8q",
        "outputId": "edb92d22-0c22-47a2-81a5-d4d9b87b9880"
      },
      "execution_count": 44,
      "outputs": [
        {
          "output_type": "stream",
          "name": "stdout",
          "text": [
            "[[2 2 2 ... 1 2 2]\n",
            " [1 2 2 ... 1 1 2]\n",
            " [2 3 3 ... 1 1 2]\n",
            " ...\n",
            " [2 4 4 ... 1 1 2]\n",
            " [2 2 2 ... 1 1 2]\n",
            " [2 2 2 ... 1 1 2]]\n",
            "--------------------------\n",
            "[4 2 2 1 3 4 3 5 3 3 3 7 3 2 1 1 4 6 4 3 2 2 3 3 4 3 2 5 4 3 4 4 2 1 3 1 2\n",
            " 3 4 2 3 3 4 4 2 2 2 2 5 5 3 4 2 3 5 3 4 2 2 3 7 3 1 2 5 3 4 3 3 4 1 2 1 4\n",
            " 1 2 3 3 4 2 2 3 3 1 2 9 1 2 2 1 6 1 2 3 3 2 1 3 4 6 2 2 1 3 1 4 2 2 7 1 3\n",
            " 3 2 2 1 3 4 2 3 1 1 5 1 3 2 4 5 3 2 2 3 2 3 3 2 3 4 6 3 5 4 3 3 2 4 2 2 1\n",
            " 2 2]\n"
          ]
        }
      ]
    },
    {
      "cell_type": "code",
      "source": [
        "#Los datos de entrenamiento\n",
        "print(X_train)\n",
        "print('--------------------------')\n",
        "print(y_train)"
      ],
      "metadata": {
        "colab": {
          "base_uri": "https://localhost:8080/"
        },
        "id": "EWNLINtzYKus",
        "outputId": "b456e61b-369f-4379-e449-f92d60d5de82"
      },
      "execution_count": 45,
      "outputs": [
        {
          "output_type": "stream",
          "name": "stdout",
          "text": [
            "[[1 1 1 ... 2 1 2]\n",
            " [1 2 2 ... 1 1 2]\n",
            " [1 2 2 ... 1 1 2]\n",
            " ...\n",
            " [1 4 4 ... 1 1 2]\n",
            " [1 3 3 ... 1 1 2]\n",
            " [1 4 4 ... 1 1 2]]\n",
            "--------------------------\n",
            "[ 4  1  3  2  3  4  1  1  3  3  1  1  2  2  3  3  1  5  3  2  2  3  2  5\n",
            "  4  5  4  3  5  4  3  1  2  1  1  3  5  3  5  3 10  5  2  4  1  2  3  4\n",
            "  3  5  1  2  2  6  4  1  2  3  3  1  1  1  3  4  1  2  3  4  4  5  4  8\n",
            "  5  2  2  2  4  4  8  4  3  3  4  3  4  4  3  7  4  1  2  4  4  2  4  3\n",
            "  2  2  2  2  1  4  3  2  1  6  1  3  5  2  3  1  3  3  3  8  2  1  4  3\n",
            "  4  5  4  1  3  1  3  2  6  5  3  2  1  2  1  4  2  3  5  2  8  2  5  1\n",
            "  3  1  1  1  1  2  2  3  5  4  4  3  1  6  5  7  7  2  6  5  1  1  4  2\n",
            "  3  5  1  4  5  4  3  2  1  3  2  4  2  5  1  2  1  3  4  3  3  3  3  1\n",
            "  4  3  3  3  3  4  3  2  2  3  1  2  2  2  2  2  2  5  2  2  1  4  2  1\n",
            "  4  4  3  6  3  4  3  4  3  4  2  4  4  1  3  1  4  1  3  7  3  4  2  2\n",
            "  5  3  3  4  3  4  7  1  3  1  2  5  4  6  2  1  1  2  1  4  2  3  3  2\n",
            "  2  1  4  4  2  3  4  1  1  5  1  2  1  6  5  4  3  3  2  1  3  4  3  2\n",
            "  2  2  3  4  1  3  2  1  4  2  5  1  1  3  2  1  3  5  1  1  4  3  4  4\n",
            "  2  5  4  1  5  7  4  2  2  4  4  1  3  3  5  1  4  3  2  3  5  4  4  1\n",
            "  6  2  2  2  1  1  2  3  3  5  4  1  4  1  1  2  2  5  3  4  5  1  3  2\n",
            "  2  8  1  2  2  5  1  1  5  3  7  4  3  3  5  1  1  2  2  3  5  1  6  4\n",
            "  5  3  3  2  2  2  1  1  1  1  4  1  6  4  2  7  6  3  3  1  2  2  2  2\n",
            "  4  2  1  2  2  6  1  4  6  2  2  4  4  4  4  1  1  2  2  1  2  5  4  2\n",
            "  2  4  4  1  2  3  4  3  2  5  5  3  3  4  4  2  1  4  2  2  2  3  3  2\n",
            "  6  1  4  5  1  4  3  1  2  4  3  1  4  1  1  4  4  6  3  5 10  7  3  2\n",
            "  3  2  1  2  3  8  2  3  3  8  5  3  5  7  3  2  2  2  3  4  4  1  4  4\n",
            "  2  3  1  2  6  3  7  4  1  2  3  4  3  3  3  1  3  2  4  3  3  1  2  3\n",
            "  2  1  4  2  2  2  6  2  3  2  4  2  2  3  3  5  2  2  4  5  2  1  1  1\n",
            "  4  1  4  2  3  4  2  1  3  3  7  3  2  4  8  3  2  5  4  4  3  4  2  2\n",
            "  3  3  2  5  4  3  3  2  3  6  4  4  5  4  2  3  1  2  1  2  2  3  3  5\n",
            "  2  4  3  1  1  4  5  2  3  1  2  3  5  5  4  4  5  4  2  2  2  3  1  3\n",
            "  1  3  3  3  4  2  4  3  3  3  1  2  7  6  3  3  3  3  2  1  3  4  3  1\n",
            "  1  4  1  2  2  1  3  1  3  4  4  4  2  2  2  4  7  4  2  5  3  2  1  3\n",
            "  2  4  4  3  3  4  4  2  2  3  2  2  1  3  2  4  2  1  2  2  2  3  5  8\n",
            "  2  3  1  2  4  3  3  3  3  3  2  3  3  1  3  5  2  3  2  5  1  4  2  1\n",
            "  1  5  4  2  4  4  2  1  4  1  2  2  2  4  2  2  5  3  6  2  1  1  1  3\n",
            "  1  2  2  5  7  3  4  4  2  8  4  2  3  4  5  4  1  5  4  6  3  8  4  3\n",
            "  8  3  2  1  3  2  1  4  3  3  3  5  4  3  2  2  3  7  4  6  1  1  3  3\n",
            "  5  6  2  3  3  3  2  1  2  1  3  2  5  4  3  4  2  5  7  3  3  1  3  2\n",
            "  1  8  2  3  5  1  3  3  2  7  5  2  3  4  1  3  3  6  1  3  1  1  3  4\n",
            "  4  5  4  6  4  2  4  1  4  1]\n"
          ]
        }
      ]
    },
    {
      "cell_type": "markdown",
      "source": [
        "## Aplicar el algoritmo de clasificación de los K vecinos más cercanos"
      ],
      "metadata": {
        "id": "lRXLWem89CKX"
      }
    },
    {
      "cell_type": "code",
      "source": [
        "#Modelo de clasificación\n",
        "Knn=KNeighborsClassifier(n_neighbors=3)\n",
        "Knn.fit(X_train,y_train)"
      ],
      "metadata": {
        "colab": {
          "base_uri": "https://localhost:8080/",
          "height": 75
        },
        "id": "Ts3Fyd_sYRGU",
        "outputId": "0ed5be68-95e8-46e4-c459-9fab0ded9c2c"
      },
      "execution_count": 46,
      "outputs": [
        {
          "output_type": "execute_result",
          "data": {
            "text/plain": [
              "KNeighborsClassifier(n_neighbors=3)"
            ],
            "text/html": [
              "<style>#sk-container-id-3 {color: black;background-color: white;}#sk-container-id-3 pre{padding: 0;}#sk-container-id-3 div.sk-toggleable {background-color: white;}#sk-container-id-3 label.sk-toggleable__label {cursor: pointer;display: block;width: 100%;margin-bottom: 0;padding: 0.3em;box-sizing: border-box;text-align: center;}#sk-container-id-3 label.sk-toggleable__label-arrow:before {content: \"▸\";float: left;margin-right: 0.25em;color: #696969;}#sk-container-id-3 label.sk-toggleable__label-arrow:hover:before {color: black;}#sk-container-id-3 div.sk-estimator:hover label.sk-toggleable__label-arrow:before {color: black;}#sk-container-id-3 div.sk-toggleable__content {max-height: 0;max-width: 0;overflow: hidden;text-align: left;background-color: #f0f8ff;}#sk-container-id-3 div.sk-toggleable__content pre {margin: 0.2em;color: black;border-radius: 0.25em;background-color: #f0f8ff;}#sk-container-id-3 input.sk-toggleable__control:checked~div.sk-toggleable__content {max-height: 200px;max-width: 100%;overflow: auto;}#sk-container-id-3 input.sk-toggleable__control:checked~label.sk-toggleable__label-arrow:before {content: \"▾\";}#sk-container-id-3 div.sk-estimator input.sk-toggleable__control:checked~label.sk-toggleable__label {background-color: #d4ebff;}#sk-container-id-3 div.sk-label input.sk-toggleable__control:checked~label.sk-toggleable__label {background-color: #d4ebff;}#sk-container-id-3 input.sk-hidden--visually {border: 0;clip: rect(1px 1px 1px 1px);clip: rect(1px, 1px, 1px, 1px);height: 1px;margin: -1px;overflow: hidden;padding: 0;position: absolute;width: 1px;}#sk-container-id-3 div.sk-estimator {font-family: monospace;background-color: #f0f8ff;border: 1px dotted black;border-radius: 0.25em;box-sizing: border-box;margin-bottom: 0.5em;}#sk-container-id-3 div.sk-estimator:hover {background-color: #d4ebff;}#sk-container-id-3 div.sk-parallel-item::after {content: \"\";width: 100%;border-bottom: 1px solid gray;flex-grow: 1;}#sk-container-id-3 div.sk-label:hover label.sk-toggleable__label {background-color: #d4ebff;}#sk-container-id-3 div.sk-serial::before {content: \"\";position: absolute;border-left: 1px solid gray;box-sizing: border-box;top: 0;bottom: 0;left: 50%;z-index: 0;}#sk-container-id-3 div.sk-serial {display: flex;flex-direction: column;align-items: center;background-color: white;padding-right: 0.2em;padding-left: 0.2em;position: relative;}#sk-container-id-3 div.sk-item {position: relative;z-index: 1;}#sk-container-id-3 div.sk-parallel {display: flex;align-items: stretch;justify-content: center;background-color: white;position: relative;}#sk-container-id-3 div.sk-item::before, #sk-container-id-3 div.sk-parallel-item::before {content: \"\";position: absolute;border-left: 1px solid gray;box-sizing: border-box;top: 0;bottom: 0;left: 50%;z-index: -1;}#sk-container-id-3 div.sk-parallel-item {display: flex;flex-direction: column;z-index: 1;position: relative;background-color: white;}#sk-container-id-3 div.sk-parallel-item:first-child::after {align-self: flex-end;width: 50%;}#sk-container-id-3 div.sk-parallel-item:last-child::after {align-self: flex-start;width: 50%;}#sk-container-id-3 div.sk-parallel-item:only-child::after {width: 0;}#sk-container-id-3 div.sk-dashed-wrapped {border: 1px dashed gray;margin: 0 0.4em 0.5em 0.4em;box-sizing: border-box;padding-bottom: 0.4em;background-color: white;}#sk-container-id-3 div.sk-label label {font-family: monospace;font-weight: bold;display: inline-block;line-height: 1.2em;}#sk-container-id-3 div.sk-label-container {text-align: center;}#sk-container-id-3 div.sk-container {/* jupyter's `normalize.less` sets `[hidden] { display: none; }` but bootstrap.min.css set `[hidden] { display: none !important; }` so we also need the `!important` here to be able to override the default hidden behavior on the sphinx rendered scikit-learn.org. See: https://github.com/scikit-learn/scikit-learn/issues/21755 */display: inline-block !important;position: relative;}#sk-container-id-3 div.sk-text-repr-fallback {display: none;}</style><div id=\"sk-container-id-3\" class=\"sk-top-container\"><div class=\"sk-text-repr-fallback\"><pre>KNeighborsClassifier(n_neighbors=3)</pre><b>In a Jupyter environment, please rerun this cell to show the HTML representation or trust the notebook. <br />On GitHub, the HTML representation is unable to render, please try loading this page with nbviewer.org.</b></div><div class=\"sk-container\" hidden><div class=\"sk-item\"><div class=\"sk-estimator sk-toggleable\"><input class=\"sk-toggleable__control sk-hidden--visually\" id=\"sk-estimator-id-3\" type=\"checkbox\" checked><label for=\"sk-estimator-id-3\" class=\"sk-toggleable__label sk-toggleable__label-arrow\">KNeighborsClassifier</label><div class=\"sk-toggleable__content\"><pre>KNeighborsClassifier(n_neighbors=3)</pre></div></div></div></div></div>"
            ]
          },
          "metadata": {},
          "execution_count": 46
        }
      ]
    },
    {
      "cell_type": "code",
      "source": [
        "#Revisar la metrica\n",
        "Knn.score(X_test,y_test)"
      ],
      "metadata": {
        "colab": {
          "base_uri": "https://localhost:8080/"
        },
        "id": "8g88wRlRYTcE",
        "outputId": "cbd56e78-5e60-409b-c9e5-1a80f8ee5d43"
      },
      "execution_count": 47,
      "outputs": [
        {
          "output_type": "execute_result",
          "data": {
            "text/plain": [
              "0.2"
            ]
          },
          "metadata": {},
          "execution_count": 47
        }
      ]
    },
    {
      "cell_type": "code",
      "source": [
        "# Establecer las observaciones para los 7 criterios\n",
        "observacion=[[1,3,3,5,1,2,1]]\n",
        "print(observacion)\n",
        "ob=np.array(observacion)\n",
        "print(ob)\n",
        "ob.reshape(1,-1)\n",
        "print(ob)"
      ],
      "metadata": {
        "colab": {
          "base_uri": "https://localhost:8080/"
        },
        "id": "GHVP_MNNYba8",
        "outputId": "ad5faea6-ad71-40b4-e3c0-6302e74cded9"
      },
      "execution_count": 48,
      "outputs": [
        {
          "output_type": "stream",
          "name": "stdout",
          "text": [
            "[[1, 3, 3, 5, 1, 2, 1]]\n",
            "[[1 3 3 5 1 2 1]]\n",
            "[[1 3 3 5 1 2 1]]\n"
          ]
        }
      ]
    },
    {
      "cell_type": "code",
      "source": [
        "#Predice los datos de prueba\n",
        "Knn.predict(ob)\n"
      ],
      "metadata": {
        "colab": {
          "base_uri": "https://localhost:8080/"
        },
        "id": "e1yar9sNYdPE",
        "outputId": "06be44e9-1899-4f4a-bea4-711d16d44d40"
      },
      "execution_count": 49,
      "outputs": [
        {
          "output_type": "execute_result",
          "data": {
            "text/plain": [
              "array([2])"
            ]
          },
          "metadata": {},
          "execution_count": 49
        }
      ]
    },
    {
      "cell_type": "markdown",
      "source": [
        "**Nota:** Según las observaciones anexadas en el dataset [1,3,3,5,1,2,1] donde 1 pertenecen la persona en la zona 1,3 es la Cantidad de cuartos de la vivienda, 3 Si hay sala y comedor, 5 días llega el agua, 1 El hogar tiene cocina, 2 El hogar posee nevera, 1 el hogar fue afectado por la inundación.\n",
        "El  modelo predictorio del Knn predice que hay 2 integrantes en la vivienda teniendo en cuenta los anteriores criterios."
      ],
      "metadata": {
        "id": "un4ab8QVilHc"
      }
    },
    {
      "cell_type": "code",
      "source": [
        "#Se realiza el modelo. De clasificación o de agrupamiento\n",
        "from sklearn.neighbors import KNeighborsClassifier\n",
        "from sklearn.model_selection import train_test_split\n",
        "X_train,X_test,y_train,y_test=train_test_split(X,y, test_size=0.15)\n",
        "#se imprime los datos\n",
        "print(X_test)\n",
        "print('--------------------------')\n",
        "print(y_test)"
      ],
      "metadata": {
        "colab": {
          "base_uri": "https://localhost:8080/"
        },
        "id": "4RP5XsOHa-c0",
        "outputId": "523de5c5-fcdf-496b-cd72-f608d86b3270"
      },
      "execution_count": 50,
      "outputs": [
        {
          "output_type": "stream",
          "name": "stdout",
          "text": [
            "[[1 2 2 ... 1 1 2]\n",
            " [2 1 1 ... 1 2 1]\n",
            " [1 3 3 ... 1 1 2]\n",
            " ...\n",
            " [2 2 2 ... 1 1 2]\n",
            " [1 3 3 ... 1 1 2]\n",
            " [2 3 3 ... 1 1 2]]\n",
            "--------------------------\n",
            "[2 2 3 2 5 4 5 4 4 2 3 5 6 3 6 3 5 2 3 5 6 4 1 3 4 3 2 2 1 4 2 3 1 3 4 1 4\n",
            " 2 5 5 1 4 1 1 1 1 3 2 3 1 4 2 4 4 4 3 1 2 4 1 3 4 2 3 8 1 2 2 4 2 3 2 8 2\n",
            " 4 4 3 1 3 2 3 4 3 1 2 4 3 1 2 2 2 4 1 3 1 3 6 2 3 4 3 5 4 6 2 1 4 2 4 4 3\n",
            " 1 4 5 2 3 5 4 2 3 1 3 4 1 2 1 7 4 6 2 1 3 2 1 2 1 3 2 2 1 3 3 2 4 3 1 1 3\n",
            " 3 2]\n"
          ]
        }
      ]
    },
    {
      "cell_type": "code",
      "source": [
        "#Aplicar el algoritmo de clasificación de los K vecinos más cercanos\n",
        "from sklearn.cluster import KMeans\n",
        "Kmeans=KMeans(n_clusters=2, max_iter=500)\n",
        "Kmeans.fit(X_train,y_train)"
      ],
      "metadata": {
        "colab": {
          "base_uri": "https://localhost:8080/",
          "height": 130
        },
        "id": "AajFKiLDbP7l",
        "outputId": "e292763c-4d6c-45f0-d97b-154012b99c02"
      },
      "execution_count": 51,
      "outputs": [
        {
          "output_type": "stream",
          "name": "stderr",
          "text": [
            "/usr/local/lib/python3.10/dist-packages/sklearn/cluster/_kmeans.py:870: FutureWarning: The default value of `n_init` will change from 10 to 'auto' in 1.4. Set the value of `n_init` explicitly to suppress the warning\n",
            "  warnings.warn(\n"
          ]
        },
        {
          "output_type": "execute_result",
          "data": {
            "text/plain": [
              "KMeans(max_iter=500, n_clusters=2)"
            ],
            "text/html": [
              "<style>#sk-container-id-4 {color: black;background-color: white;}#sk-container-id-4 pre{padding: 0;}#sk-container-id-4 div.sk-toggleable {background-color: white;}#sk-container-id-4 label.sk-toggleable__label {cursor: pointer;display: block;width: 100%;margin-bottom: 0;padding: 0.3em;box-sizing: border-box;text-align: center;}#sk-container-id-4 label.sk-toggleable__label-arrow:before {content: \"▸\";float: left;margin-right: 0.25em;color: #696969;}#sk-container-id-4 label.sk-toggleable__label-arrow:hover:before {color: black;}#sk-container-id-4 div.sk-estimator:hover label.sk-toggleable__label-arrow:before {color: black;}#sk-container-id-4 div.sk-toggleable__content {max-height: 0;max-width: 0;overflow: hidden;text-align: left;background-color: #f0f8ff;}#sk-container-id-4 div.sk-toggleable__content pre {margin: 0.2em;color: black;border-radius: 0.25em;background-color: #f0f8ff;}#sk-container-id-4 input.sk-toggleable__control:checked~div.sk-toggleable__content {max-height: 200px;max-width: 100%;overflow: auto;}#sk-container-id-4 input.sk-toggleable__control:checked~label.sk-toggleable__label-arrow:before {content: \"▾\";}#sk-container-id-4 div.sk-estimator input.sk-toggleable__control:checked~label.sk-toggleable__label {background-color: #d4ebff;}#sk-container-id-4 div.sk-label input.sk-toggleable__control:checked~label.sk-toggleable__label {background-color: #d4ebff;}#sk-container-id-4 input.sk-hidden--visually {border: 0;clip: rect(1px 1px 1px 1px);clip: rect(1px, 1px, 1px, 1px);height: 1px;margin: -1px;overflow: hidden;padding: 0;position: absolute;width: 1px;}#sk-container-id-4 div.sk-estimator {font-family: monospace;background-color: #f0f8ff;border: 1px dotted black;border-radius: 0.25em;box-sizing: border-box;margin-bottom: 0.5em;}#sk-container-id-4 div.sk-estimator:hover {background-color: #d4ebff;}#sk-container-id-4 div.sk-parallel-item::after {content: \"\";width: 100%;border-bottom: 1px solid gray;flex-grow: 1;}#sk-container-id-4 div.sk-label:hover label.sk-toggleable__label {background-color: #d4ebff;}#sk-container-id-4 div.sk-serial::before {content: \"\";position: absolute;border-left: 1px solid gray;box-sizing: border-box;top: 0;bottom: 0;left: 50%;z-index: 0;}#sk-container-id-4 div.sk-serial {display: flex;flex-direction: column;align-items: center;background-color: white;padding-right: 0.2em;padding-left: 0.2em;position: relative;}#sk-container-id-4 div.sk-item {position: relative;z-index: 1;}#sk-container-id-4 div.sk-parallel {display: flex;align-items: stretch;justify-content: center;background-color: white;position: relative;}#sk-container-id-4 div.sk-item::before, #sk-container-id-4 div.sk-parallel-item::before {content: \"\";position: absolute;border-left: 1px solid gray;box-sizing: border-box;top: 0;bottom: 0;left: 50%;z-index: -1;}#sk-container-id-4 div.sk-parallel-item {display: flex;flex-direction: column;z-index: 1;position: relative;background-color: white;}#sk-container-id-4 div.sk-parallel-item:first-child::after {align-self: flex-end;width: 50%;}#sk-container-id-4 div.sk-parallel-item:last-child::after {align-self: flex-start;width: 50%;}#sk-container-id-4 div.sk-parallel-item:only-child::after {width: 0;}#sk-container-id-4 div.sk-dashed-wrapped {border: 1px dashed gray;margin: 0 0.4em 0.5em 0.4em;box-sizing: border-box;padding-bottom: 0.4em;background-color: white;}#sk-container-id-4 div.sk-label label {font-family: monospace;font-weight: bold;display: inline-block;line-height: 1.2em;}#sk-container-id-4 div.sk-label-container {text-align: center;}#sk-container-id-4 div.sk-container {/* jupyter's `normalize.less` sets `[hidden] { display: none; }` but bootstrap.min.css set `[hidden] { display: none !important; }` so we also need the `!important` here to be able to override the default hidden behavior on the sphinx rendered scikit-learn.org. See: https://github.com/scikit-learn/scikit-learn/issues/21755 */display: inline-block !important;position: relative;}#sk-container-id-4 div.sk-text-repr-fallback {display: none;}</style><div id=\"sk-container-id-4\" class=\"sk-top-container\"><div class=\"sk-text-repr-fallback\"><pre>KMeans(max_iter=500, n_clusters=2)</pre><b>In a Jupyter environment, please rerun this cell to show the HTML representation or trust the notebook. <br />On GitHub, the HTML representation is unable to render, please try loading this page with nbviewer.org.</b></div><div class=\"sk-container\" hidden><div class=\"sk-item\"><div class=\"sk-estimator sk-toggleable\"><input class=\"sk-toggleable__control sk-hidden--visually\" id=\"sk-estimator-id-4\" type=\"checkbox\" checked><label for=\"sk-estimator-id-4\" class=\"sk-toggleable__label sk-toggleable__label-arrow\">KMeans</label><div class=\"sk-toggleable__content\"><pre>KMeans(max_iter=500, n_clusters=2)</pre></div></div></div></div></div>"
            ]
          },
          "metadata": {},
          "execution_count": 51
        }
      ]
    },
    {
      "cell_type": "markdown",
      "source": [
        "## Calcular los puntajes de la clasificación"
      ],
      "metadata": {
        "id": "hMtuOgES_mBz"
      }
    },
    {
      "cell_type": "code",
      "source": [
        "#Calcular los puntajes de la clasificación\n",
        "objetivos_=Kmeans.fit_predict(X_test,y_test)\n",
        "objetivos_"
      ],
      "metadata": {
        "colab": {
          "base_uri": "https://localhost:8080/"
        },
        "id": "_Wq-aWOzbXxs",
        "outputId": "1728d8a6-3268-4919-cf88-986b59c28cc9"
      },
      "execution_count": 52,
      "outputs": [
        {
          "output_type": "stream",
          "name": "stderr",
          "text": [
            "/usr/local/lib/python3.10/dist-packages/sklearn/cluster/_kmeans.py:870: FutureWarning: The default value of `n_init` will change from 10 to 'auto' in 1.4. Set the value of `n_init` explicitly to suppress the warning\n",
            "  warnings.warn(\n"
          ]
        },
        {
          "output_type": "execute_result",
          "data": {
            "text/plain": [
              "array([1, 1, 0, 0, 0, 0, 0, 0, 0, 0, 1, 0, 0, 0, 0, 0, 0, 1, 1, 1, 1, 0,\n",
              "       0, 0, 0, 0, 1, 0, 0, 0, 0, 0, 0, 1, 0, 0, 1, 1, 1, 0, 0, 0, 1, 0,\n",
              "       1, 0, 1, 0, 0, 1, 0, 0, 1, 0, 0, 1, 0, 1, 0, 0, 0, 0, 1, 0, 0, 0,\n",
              "       1, 0, 0, 1, 1, 0, 0, 0, 0, 0, 0, 0, 0, 0, 0, 1, 0, 1, 0, 0, 0, 0,\n",
              "       0, 1, 0, 1, 0, 0, 1, 0, 0, 0, 0, 0, 1, 0, 1, 0, 0, 0, 0, 1, 0, 0,\n",
              "       0, 1, 0, 1, 1, 0, 0, 1, 0, 1, 1, 0, 0, 0, 1, 0, 0, 0, 0, 0, 1, 0,\n",
              "       1, 0, 1, 0, 0, 0, 0, 1, 0, 0, 0, 0, 0, 1, 0, 1, 0, 0], dtype=int32)"
            ]
          },
          "metadata": {},
          "execution_count": 52
        }
      ]
    },
    {
      "cell_type": "code",
      "source": [
        "#Puntaje del kmeans\n",
        "Kmeans.score(X_test,y_test)"
      ],
      "metadata": {
        "colab": {
          "base_uri": "https://localhost:8080/"
        },
        "id": "BkM7apvVbtyP",
        "outputId": "3472cefa-b66e-498d-c71c-5c1babbc392c"
      },
      "execution_count": 53,
      "outputs": [
        {
          "output_type": "execute_result",
          "data": {
            "text/plain": [
              "-281.3297598627788"
            ]
          },
          "metadata": {},
          "execution_count": 53
        }
      ]
    },
    {
      "cell_type": "code",
      "source": [
        "#Puntajes modelo de entrenamiento y prueba\n",
        "train_scores={}\n",
        "test_scores={}\n",
        "neighbors = np.arange(1,10)\n",
        "for neighbor in neighbors:\n",
        "  knn=KNeighborsClassifier(n_neighbors=neighbor)\n",
        "  knn.fit(X_train,y_train)\n",
        "  train_scores[neighbor]=knn.score(X_train,y_train)\n",
        "  test_scores[neighbor]=knn.score(X_test,y_test)"
      ],
      "metadata": {
        "id": "SixelJOFcxGf"
      },
      "execution_count": 54,
      "outputs": []
    },
    {
      "cell_type": "code",
      "source": [
        "#Se imprimen los puntajes\n",
        "print(train_scores)\n",
        "print(test_scores)"
      ],
      "metadata": {
        "colab": {
          "base_uri": "https://localhost:8080/"
        },
        "id": "pa-mYRq8c3jx",
        "outputId": "b2c08dcc-1b3f-433c-e810-d6a39ae2537b"
      },
      "execution_count": 55,
      "outputs": [
        {
          "output_type": "stream",
          "name": "stdout",
          "text": [
            "{1: 0.2917647058823529, 2: 0.26823529411764707, 3: 0.3, 4: 0.2823529411764706, 5: 0.27294117647058824, 6: 0.29294117647058826, 7: 0.2811764705882353, 8: 0.2788235294117647, 9: 0.2952941176470588}\n",
            "{1: 0.21333333333333335, 2: 0.2, 3: 0.25333333333333335, 4: 0.19333333333333333, 5: 0.19333333333333333, 6: 0.23333333333333334, 7: 0.23333333333333334, 8: 0.23333333333333334, 9: 0.23333333333333334}\n"
          ]
        }
      ]
    },
    {
      "cell_type": "code",
      "source": [
        "#Se realiza la Matriz de confusión\n",
        "from sklearn.metrics import confusion_matrix\n",
        "confusion_matrix(y_test,Knn.predict(X_test))"
      ],
      "metadata": {
        "colab": {
          "base_uri": "https://localhost:8080/"
        },
        "id": "h4q4S5p6aZGN",
        "outputId": "82ae9753-7510-4fe1-b0d5-4a6ca9ec35bb"
      },
      "execution_count": 56,
      "outputs": [
        {
          "output_type": "execute_result",
          "data": {
            "text/plain": [
              "array([[18,  6,  1,  4,  0,  0,  0,  0],\n",
              "       [15, 11,  5,  5,  0,  0,  0,  0],\n",
              "       [15, 10,  4,  6,  0,  0,  0,  0],\n",
              "       [12, 10,  3,  6,  0,  0,  0,  0],\n",
              "       [ 3,  2,  3,  2,  0,  0,  0,  0],\n",
              "       [ 2,  2,  0,  2,  0,  0,  0,  0],\n",
              "       [ 0,  0,  0,  1,  0,  0,  0,  0],\n",
              "       [ 1,  0,  0,  1,  0,  0,  0,  0]])"
            ]
          },
          "metadata": {},
          "execution_count": 56
        }
      ]
    },
    {
      "cell_type": "code",
      "source": [
        "#Los datos de prueba\n",
        "print(X_test)\n",
        "print('--------------------------')\n",
        "print(y_test)"
      ],
      "metadata": {
        "colab": {
          "base_uri": "https://localhost:8080/"
        },
        "id": "mmLawDhpEcak",
        "outputId": "aca7abfa-55eb-48a1-cefb-b9ddf3c87732"
      },
      "execution_count": 57,
      "outputs": [
        {
          "output_type": "stream",
          "name": "stdout",
          "text": [
            "[[1 2 2 ... 1 1 2]\n",
            " [2 1 1 ... 1 2 1]\n",
            " [1 3 3 ... 1 1 2]\n",
            " ...\n",
            " [2 2 2 ... 1 1 2]\n",
            " [1 3 3 ... 1 1 2]\n",
            " [2 3 3 ... 1 1 2]]\n",
            "--------------------------\n",
            "[2 2 3 2 5 4 5 4 4 2 3 5 6 3 6 3 5 2 3 5 6 4 1 3 4 3 2 2 1 4 2 3 1 3 4 1 4\n",
            " 2 5 5 1 4 1 1 1 1 3 2 3 1 4 2 4 4 4 3 1 2 4 1 3 4 2 3 8 1 2 2 4 2 3 2 8 2\n",
            " 4 4 3 1 3 2 3 4 3 1 2 4 3 1 2 2 2 4 1 3 1 3 6 2 3 4 3 5 4 6 2 1 4 2 4 4 3\n",
            " 1 4 5 2 3 5 4 2 3 1 3 4 1 2 1 7 4 6 2 1 3 2 1 2 1 3 2 2 1 3 3 2 4 3 1 1 3\n",
            " 3 2]\n"
          ]
        }
      ]
    },
    {
      "cell_type": "code",
      "source": [
        "#Gráfica de los puntajes (score)\n",
        "\n",
        "plt.plot(list(train_scores.values()),'r--',label='train')\n",
        "plt.plot(list(test_scores.values()),'b*-',label='test')\n",
        "plt.legend()\n",
        "plt.xlabel('Vecinos')\n",
        "plt.ylabel('Porcentaje')\n",
        "plt.title('Comparación de rendimiento de vecinos')\n",
        "plt.grid()\n",
        "plt.show()"
      ],
      "metadata": {
        "colab": {
          "base_uri": "https://localhost:8080/",
          "height": 472
        },
        "id": "Q6tepRRGp1z8",
        "outputId": "e3332d47-2960-4a5b-ec1a-524a5b590cb5"
      },
      "execution_count": 74,
      "outputs": [
        {
          "output_type": "display_data",
          "data": {
            "text/plain": [
              "<Figure size 640x480 with 1 Axes>"
            ],
            "image/png": "[encoded data removed]"
          },
          "metadata": {}
        }
      ]
    },
    {
      "cell_type": "markdown",
      "source": [
        "Teniendo en cuenta la gráfica de comparación del rendimiento de 10 vecinos,al imprimir los puntajes y graficarlos,Se evidencia que el modelo de entrenamiento tienen varios picos bajos y altos alcanzando un comportamiento maximo del 30%, en el modelo de prueba alcanzó un pico inferior de rendimiento a 10%.\n",
        "\n",
        "En la linea azul (modelo de entrenamiento), el comportamiento es igual si se tienen 5,6,7,8 y 9 vecinos."
      ],
      "metadata": {
        "id": "BiATFauxxY2O"
      }
    },
    {
      "cell_type": "markdown",
      "source": [
        "## Concluir si la clasificación fue buena o no\n",
        "\n",
        "---\n",
        "\n"
      ],
      "metadata": {
        "id": "SBI78pMC_oKV"
      }
    },
    {
      "cell_type": "markdown",
      "source": [
        "De acuerdo a la matriz de confusión la clasificación del número de integrantes de la vivienda del Sisben, el modelo arroja inconsistencias en la clasificación, dado que la matriz se encuentran 7 categorias del dataset, en la diagonal de la matriz los datos que se encuentran fuera de esta, no lo están clasificando correctamente.\n",
        "\n",
        "![image.png](data:image/png;base64,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)\n",
        "\n",
        "Por ejemplo:En la columna 2, fila 1 se encuentran 15 datos donde el modelo clasifica que 2 personas viven en un hogar cuando en realidad es una persona que viven en el hogar.\n",
        "\n",
        "Los datos 0 representan la ausencia de los datos variables respuesta del 15% clasificado en el modelo de prueba."
      ],
      "metadata": {
        "id": "vmvW0LQpkMEE"
      }
    },
    {
      "cell_type": "markdown",
      "source": [
        "# **Actividad 2**\n"
      ],
      "metadata": {
        "id": "8Bx2B1PB3gp7"
      }
    },
    {
      "cell_type": "markdown",
      "source": [
        "## Usando Socrata, Cargue un dataset que se encuentre en el portal de datos públicos de Colombia"
      ],
      "metadata": {
        "id": "1lX6NFl7eZvk"
      }
    },
    {
      "cell_type": "markdown",
      "source": [
        "Se escogió un dataset sobre la **salud del sueño** en la página de Kaggle, donde determina si una persona presenta un desorden del sueño, teniendo en cuenta unos habitos o criterios de este dataset como la edad,género, duración del sueño, actividad fisica, nivel de éstres, el indice de masa corporal, latidos del corazón y los pasos que realiza una persona diariamente.\n",
        "\n",
        "Las variables se asignaron de la siguiente forma:\n",
        "\n",
        "\n",
        "*   Desorden del sueño [(0) No presenta desorden del sueño, (1) Apnea del sueño,(2) Insomio]\n",
        "\n",
        "*   Género [0 es Masculino, 1 es Femenino]\n",
        "* Categoria BMI [(0) es Normal, (2) sobrepeso, (3) obesidad]\n",
        "\n",
        "\n",
        "\n",
        "\n"
      ],
      "metadata": {
        "id": "wWHYS3-aO2hG"
      }
    },
    {
      "cell_type": "markdown",
      "source": [
        "[linkData2 en kaggle](https://www.kaggle.com/datasets/uom190346a/sleep-health-and-lifestyle-dataset)\n",
        "\n",
        "[Dataset en excel ](https://docs.google.com/spreadsheets/d/1gAO4joVYElzgcy4rREPyMRjec4aVlf_N/edit?usp=sharing&ouid=101241509980101147413&rtpof=true&sd=true)"
      ],
      "metadata": {
        "id": "bjPTuLG1_Mt_"
      }
    },
    {
      "cell_type": "code",
      "source": [
        "df3 = pd.read_excel('/content/Sleep_health_and_lifestyle_dataset.xlsx',sheet_name='Sleep_health_and_lifestyle_data')\n",
        "df3"
      ],
      "metadata": {
        "colab": {
          "base_uri": "https://localhost:8080/",
          "height": 424
        },
        "id": "YsOd-6K7xUB1",
        "outputId": "3b4250f7-8b5c-49fb-9ab0-096766ad2480"
      },
      "execution_count": 59,
      "outputs": [
        {
          "output_type": "execute_result",
          "data": {
            "text/plain": [
              "     Person ID  Gender  Age  Sleep Duration  Quality of Sleep  \\\n",
              "0            1       0   27             6.1                 6   \n",
              "1            2       0   28             6.2                 6   \n",
              "2            3       0   28             6.2                 6   \n",
              "3            4       0   28             5.9                 4   \n",
              "4            5       0   28             5.9                 4   \n",
              "..         ...     ...  ...             ...               ...   \n",
              "369        370       1   59             8.1                 9   \n",
              "370        371       1   59             8.0                 9   \n",
              "371        372       1   59             8.1                 9   \n",
              "372        373       1   59             8.1                 9   \n",
              "373        374       1   59             8.1                 9   \n",
              "\n",
              "     Physical Activity Level  Stress Level  BMI Category  Heart Rate  \\\n",
              "0                         42             6             2          77   \n",
              "1                         60             8             0          75   \n",
              "2                         60             8             0          75   \n",
              "3                         30             8             3          85   \n",
              "4                         30             8             3          85   \n",
              "..                       ...           ...           ...         ...   \n",
              "369                       75             3             2          68   \n",
              "370                       75             3             2          68   \n",
              "371                       75             3             2          68   \n",
              "372                       75             3             2          68   \n",
              "373                       75             3             2          68   \n",
              "\n",
              "     Daily Steps  Sleep Disorder  \n",
              "0           4200               0  \n",
              "1          10000               0  \n",
              "2          10000               0  \n",
              "3           3000               1  \n",
              "4           3000               1  \n",
              "..           ...             ...  \n",
              "369         7000               1  \n",
              "370         7000               1  \n",
              "371         7000               1  \n",
              "372         7000               1  \n",
              "373         7000               1  \n",
              "\n",
              "[374 rows x 11 columns]"
            ],
            "text/html": [
              "\n",
              "\n",
              "  <div id=\"df-58059a99-cb86-4e83-a708-c4f6545b035e\">\n",
              "    <div class=\"colab-df-container\">\n",
              "      <div>\n",
              "<style scoped>\n",
              "    .dataframe tbody tr th:only-of-type {\n",
              "        vertical-align: middle;\n",
              "    }\n",
              "\n",
              "    .dataframe tbody tr th {\n",
              "        vertical-align: top;\n",
              "    }\n",
              "\n",
              "    .dataframe thead th {\n",
              "        text-align: right;\n",
              "    }\n",
              "</style>\n",
              "<table border=\"1\" class=\"dataframe\">\n",
              "  <thead>\n",
              "    <tr style=\"text-align: right;\">\n",
              "      <th></th>\n",
              "      <th>Person ID</th>\n",
              "      <th>Gender</th>\n",
              "      <th>Age</th>\n",
              "      <th>Sleep Duration</th>\n",
              "      <th>Quality of Sleep</th>\n",
              "      <th>Physical Activity Level</th>\n",
              "      <th>Stress Level</th>\n",
              "      <th>BMI Category</th>\n",
              "      <th>Heart Rate</th>\n",
              "      <th>Daily Steps</th>\n",
              "      <th>Sleep Disorder</th>\n",
              "    </tr>\n",
              "  </thead>\n",
              "  <tbody>\n",
              "    <tr>\n",
              "      <th>0</th>\n",
              "      <td>1</td>\n",
              "      <td>0</td>\n",
              "      <td>27</td>\n",
              "      <td>6.1</td>\n",
              "      <td>6</td>\n",
              "      <td>42</td>\n",
              "      <td>6</td>\n",
              "      <td>2</td>\n",
              "      <td>77</td>\n",
              "      <td>4200</td>\n",
              "      <td>0</td>\n",
              "    </tr>\n",
              "    <tr>\n",
              "      <th>1</th>\n",
              "      <td>2</td>\n",
              "      <td>0</td>\n",
              "      <td>28</td>\n",
              "      <td>6.2</td>\n",
              "      <td>6</td>\n",
              "      <td>60</td>\n",
              "      <td>8</td>\n",
              "      <td>0</td>\n",
              "      <td>75</td>\n",
              "      <td>10000</td>\n",
              "      <td>0</td>\n",
              "    </tr>\n",
              "    <tr>\n",
              "      <th>2</th>\n",
              "      <td>3</td>\n",
              "      <td>0</td>\n",
              "      <td>28</td>\n",
              "      <td>6.2</td>\n",
              "      <td>6</td>\n",
              "      <td>60</td>\n",
              "      <td>8</td>\n",
              "      <td>0</td>\n",
              "      <td>75</td>\n",
              "      <td>10000</td>\n",
              "      <td>0</td>\n",
              "    </tr>\n",
              "    <tr>\n",
              "      <th>3</th>\n",
              "      <td>4</td>\n",
              "      <td>0</td>\n",
              "      <td>28</td>\n",
              "      <td>5.9</td>\n",
              "      <td>4</td>\n",
              "      <td>30</td>\n",
              "      <td>8</td>\n",
              "      <td>3</td>\n",
              "      <td>85</td>\n",
              "      <td>3000</td>\n",
              "      <td>1</td>\n",
              "    </tr>\n",
              "    <tr>\n",
              "      <th>4</th>\n",
              "      <td>5</td>\n",
              "      <td>0</td>\n",
              "      <td>28</td>\n",
              "      <td>5.9</td>\n",
              "      <td>4</td>\n",
              "      <td>30</td>\n",
              "      <td>8</td>\n",
              "      <td>3</td>\n",
              "      <td>85</td>\n",
              "      <td>3000</td>\n",
              "      <td>1</td>\n",
              "    </tr>\n",
              "    <tr>\n",
              "      <th>...</th>\n",
              "      <td>...</td>\n",
              "      <td>...</td>\n",
              "      <td>...</td>\n",
              "      <td>...</td>\n",
              "      <td>...</td>\n",
              "      <td>...</td>\n",
              "      <td>...</td>\n",
              "      <td>...</td>\n",
              "      <td>...</td>\n",
              "      <td>...</td>\n",
              "      <td>...</td>\n",
              "    </tr>\n",
              "    <tr>\n",
              "      <th>369</th>\n",
              "      <td>370</td>\n",
              "      <td>1</td>\n",
              "      <td>59</td>\n",
              "      <td>8.1</td>\n",
              "      <td>9</td>\n",
              "      <td>75</td>\n",
              "      <td>3</td>\n",
              "      <td>2</td>\n",
              "      <td>68</td>\n",
              "      <td>7000</td>\n",
              "      <td>1</td>\n",
              "    </tr>\n",
              "    <tr>\n",
              "      <th>370</th>\n",
              "      <td>371</td>\n",
              "      <td>1</td>\n",
              "      <td>59</td>\n",
              "      <td>8.0</td>\n",
              "      <td>9</td>\n",
              "      <td>75</td>\n",
              "      <td>3</td>\n",
              "      <td>2</td>\n",
              "      <td>68</td>\n",
              "      <td>7000</td>\n",
              "      <td>1</td>\n",
              "    </tr>\n",
              "    <tr>\n",
              "      <th>371</th>\n",
              "      <td>372</td>\n",
              "      <td>1</td>\n",
              "      <td>59</td>\n",
              "      <td>8.1</td>\n",
              "      <td>9</td>\n",
              "      <td>75</td>\n",
              "      <td>3</td>\n",
              "      <td>2</td>\n",
              "      <td>68</td>\n",
              "      <td>7000</td>\n",
              "      <td>1</td>\n",
              "    </tr>\n",
              "    <tr>\n",
              "      <th>372</th>\n",
              "      <td>373</td>\n",
              "      <td>1</td>\n",
              "      <td>59</td>\n",
              "      <td>8.1</td>\n",
              "      <td>9</td>\n",
              "      <td>75</td>\n",
              "      <td>3</td>\n",
              "      <td>2</td>\n",
              "      <td>68</td>\n",
              "      <td>7000</td>\n",
              "      <td>1</td>\n",
              "    </tr>\n",
              "    <tr>\n",
              "      <th>373</th>\n",
              "      <td>374</td>\n",
              "      <td>1</td>\n",
              "      <td>59</td>\n",
              "      <td>8.1</td>\n",
              "      <td>9</td>\n",
              "      <td>75</td>\n",
              "      <td>3</td>\n",
              "      <td>2</td>\n",
              "      <td>68</td>\n",
              "      <td>7000</td>\n",
              "      <td>1</td>\n",
              "    </tr>\n",
              "  </tbody>\n",
              "</table>\n",
              "<p>374 rows × 11 columns</p>\n",
              "</div>\n",
              "      <button class=\"colab-df-convert\" onclick=\"convertToInteractive('df-58059a99-cb86-4e83-a708-c4f6545b035e')\"\n",
              "              title=\"Convert this dataframe to an interactive table.\"\n",
              "              style=\"display:none;\">\n",
              "\n",
              "  <svg xmlns=\"http://www.w3.org/2000/svg\" height=\"24px\"viewBox=\"0 0 24 24\"\n",
              "       width=\"24px\">\n",
              "    <path d=\"M0 0h24v24H0V0z\" fill=\"none\"/>\n",
              "    <path d=\"M18.56 5.44l.94 2.06.94-2.06 2.06-.94-2.06-.94-.94-2.06-.94 2.06-2.06.94zm-11 1L8.5 8.5l.94-2.06 2.06-.94-2.06-.94L8.5 2.5l-.94 2.06-2.06.94zm10 10l.94 2.06.94-2.06 2.06-.94-2.06-.94-.94-2.06-.94 2.06-2.06.94z\"/><path d=\"M17.41 7.96l-1.37-1.37c-.4-.4-.92-.59-1.43-.59-.52 0-1.04.2-1.43.59L10.3 9.45l-7.72 7.72c-.78.78-.78 2.05 0 2.83L4 21.41c.39.39.9.59 1.41.59.51 0 1.02-.2 1.41-.59l7.78-7.78 2.81-2.81c.8-.78.8-2.07 0-2.86zM5.41 20L4 18.59l7.72-7.72 1.47 1.35L5.41 20z\"/>\n",
              "  </svg>\n",
              "      </button>\n",
              "\n",
              "\n",
              "\n",
              "    <div id=\"df-81f0a5e5-b1c1-47f6-bf8f-6a65bfd9be7c\">\n",
              "      <button class=\"colab-df-quickchart\" onclick=\"quickchart('df-81f0a5e5-b1c1-47f6-bf8f-6a65bfd9be7c')\"\n",
              "              title=\"Suggest charts.\"\n",
              "              style=\"display:none;\">\n",
              "\n",
              "<svg xmlns=\"http://www.w3.org/2000/svg\" height=\"24px\"viewBox=\"0 0 24 24\"\n",
              "     width=\"24px\">\n",
              "    <g>\n",
              "        <path d=\"M19 3H5c-1.1 0-2 .9-2 2v14c0 1.1.9 2 2 2h14c1.1 0 2-.9 2-2V5c0-1.1-.9-2-2-2zM9 17H7v-7h2v7zm4 0h-2V7h2v10zm4 0h-2v-4h2v4z\"/>\n",
              "    </g>\n",
              "</svg>\n",
              "      </button>\n",
              "    </div>\n",
              "\n",
              "<style>\n",
              "  .colab-df-quickchart {\n",
              "    background-color: #E8F0FE;\n",
              "    border: none;\n",
              "    border-radius: 50%;\n",
              "    cursor: pointer;\n",
              "    display: none;\n",
              "    fill: #1967D2;\n",
              "    height: 32px;\n",
              "    padding: 0 0 0 0;\n",
              "    width: 32px;\n",
              "  }\n",
              "\n",
              "  .colab-df-quickchart:hover {\n",
              "    background-color: #E2EBFA;\n",
              "    box-shadow: 0px 1px 2px rgba(60, 64, 67, 0.3), 0px 1px 3px 1px rgba(60, 64, 67, 0.15);\n",
              "    fill: #174EA6;\n",
              "  }\n",
              "\n",
              "  [theme=dark] .colab-df-quickchart {\n",
              "    background-color: #3B4455;\n",
              "    fill: #D2E3FC;\n",
              "  }\n",
              "\n",
              "  [theme=dark] .colab-df-quickchart:hover {\n",
              "    background-color: #434B5C;\n",
              "    box-shadow: 0px 1px 3px 1px rgba(0, 0, 0, 0.15);\n",
              "    filter: drop-shadow(0px 1px 2px rgba(0, 0, 0, 0.3));\n",
              "    fill: #FFFFFF;\n",
              "  }\n",
              "</style>\n",
              "\n",
              "    <script>\n",
              "      async function quickchart(key) {\n",
              "        const containerElement = document.querySelector('#' + key);\n",
              "        const charts = await google.colab.kernel.invokeFunction(\n",
              "            'suggestCharts', [key], {});\n",
              "      }\n",
              "    </script>\n",
              "\n",
              "      <script>\n",
              "\n",
              "function displayQuickchartButton(domScope) {\n",
              "  let quickchartButtonEl =\n",
              "    domScope.querySelector('#df-81f0a5e5-b1c1-47f6-bf8f-6a65bfd9be7c button.colab-df-quickchart');\n",
              "  quickchartButtonEl.style.display =\n",
              "    google.colab.kernel.accessAllowed ? 'block' : 'none';\n",
              "}\n",
              "\n",
              "        displayQuickchartButton(document);\n",
              "      </script>\n",
              "      <style>\n",
              "    .colab-df-container {\n",
              "      display:flex;\n",
              "      flex-wrap:wrap;\n",
              "      gap: 12px;\n",
              "    }\n",
              "\n",
              "    .colab-df-convert {\n",
              "      background-color: #E8F0FE;\n",
              "      border: none;\n",
              "      border-radius: 50%;\n",
              "      cursor: pointer;\n",
              "      display: none;\n",
              "      fill: #1967D2;\n",
              "      height: 32px;\n",
              "      padding: 0 0 0 0;\n",
              "      width: 32px;\n",
              "    }\n",
              "\n",
              "    .colab-df-convert:hover {\n",
              "      background-color: #E2EBFA;\n",
              "      box-shadow: 0px 1px 2px rgba(60, 64, 67, 0.3), 0px 1px 3px 1px rgba(60, 64, 67, 0.15);\n",
              "      fill: #174EA6;\n",
              "    }\n",
              "\n",
              "    [theme=dark] .colab-df-convert {\n",
              "      background-color: #3B4455;\n",
              "      fill: #D2E3FC;\n",
              "    }\n",
              "\n",
              "    [theme=dark] .colab-df-convert:hover {\n",
              "      background-color: #434B5C;\n",
              "      box-shadow: 0px 1px 3px 1px rgba(0, 0, 0, 0.15);\n",
              "      filter: drop-shadow(0px 1px 2px rgba(0, 0, 0, 0.3));\n",
              "      fill: #FFFFFF;\n",
              "    }\n",
              "  </style>\n",
              "\n",
              "      <script>\n",
              "        const buttonEl =\n",
              "          document.querySelector('#df-58059a99-cb86-4e83-a708-c4f6545b035e button.colab-df-convert');\n",
              "        buttonEl.style.display =\n",
              "          google.colab.kernel.accessAllowed ? 'block' : 'none';\n",
              "\n",
              "        async function convertToInteractive(key) {\n",
              "          const element = document.querySelector('#df-58059a99-cb86-4e83-a708-c4f6545b035e');\n",
              "          const dataTable =\n",
              "            await google.colab.kernel.invokeFunction('convertToInteractive',\n",
              "                                                     [key], {});\n",
              "          if (!dataTable) return;\n",
              "\n",
              "          const docLinkHtml = 'Like what you see? Visit the ' +\n",
              "            '<a target=\"_blank\" href=https://colab.research.google.com/notebooks/data_table.ipynb>data table notebook</a>'\n",
              "            + ' to learn more about interactive tables.';\n",
              "          element.innerHTML = '';\n",
              "          dataTable['output_type'] = 'display_data';\n",
              "          await google.colab.output.renderOutput(dataTable, element);\n",
              "          const docLink = document.createElement('div');\n",
              "          docLink.innerHTML = docLinkHtml;\n",
              "          element.appendChild(docLink);\n",
              "        }\n",
              "      </script>\n",
              "    </div>\n",
              "  </div>\n"
            ]
          },
          "metadata": {},
          "execution_count": 59
        }
      ]
    },
    {
      "cell_type": "markdown",
      "source": [
        "## Realice las tareas de limpieza necesarias"
      ],
      "metadata": {
        "id": "YfQ2Ahlw9f9m"
      }
    },
    {
      "cell_type": "code",
      "source": [
        " # Muestra la información General del dataset, todos los datos están de forma numerica\n",
        "df3.info()"
      ],
      "metadata": {
        "colab": {
          "base_uri": "https://localhost:8080/"
        },
        "id": "4y9eFAQx4yNf",
        "outputId": "ec3291f5-ad93-4476-d30d-3364a7ce553f"
      },
      "execution_count": 60,
      "outputs": [
        {
          "output_type": "stream",
          "name": "stdout",
          "text": [
            "<class 'pandas.core.frame.DataFrame'>\n",
            "RangeIndex: 374 entries, 0 to 373\n",
            "Data columns (total 11 columns):\n",
            " #   Column                   Non-Null Count  Dtype  \n",
            "---  ------                   --------------  -----  \n",
            " 0   Person ID                374 non-null    int64  \n",
            " 1   Gender                   374 non-null    int64  \n",
            " 2   Age                      374 non-null    int64  \n",
            " 3   Sleep Duration           374 non-null    float64\n",
            " 4   Quality of Sleep         374 non-null    int64  \n",
            " 5   Physical Activity Level  374 non-null    int64  \n",
            " 6   Stress Level             374 non-null    int64  \n",
            " 7   BMI Category             374 non-null    int64  \n",
            " 8   Heart Rate               374 non-null    int64  \n",
            " 9   Daily Steps              374 non-null    int64  \n",
            " 10  Sleep Disorder           374 non-null    int64  \n",
            "dtypes: float64(1), int64(10)\n",
            "memory usage: 32.3 KB\n"
          ]
        }
      ]
    },
    {
      "cell_type": "code",
      "source": [
        "#Se realiza la tranformación del dataset organizando las variables que se van a utilizar\n",
        "new_df3=pd.DataFrame(df3['Gender'])\n",
        "new_df3['Edad']=df3['Age']\n",
        "new_df3['Duración del sueño']=df3['Sleep Duration']\n",
        "new_df3['Calidad del sueño']=df3['Quality of Sleep']\n",
        "new_df3['Nivel de actividad fisica']=df3['Physical Activity Level']\n",
        "new_df3['Nivel de stress']=df3['Stress Level']\n",
        "new_df3['BMI']=df3['BMI Category']\n",
        "new_df3['Heart Rate']=df3['Heart Rate']\n",
        "new_df3['Pasos diarios']=df3['Daily Steps']\n",
        "new_df3['Desorden del sueño']=df3['Sleep Disorder']\n",
        "\n",
        "new_df3"
      ],
      "metadata": {
        "colab": {
          "base_uri": "https://localhost:8080/",
          "height": 424
        },
        "id": "xzceeO5Q24_U",
        "outputId": "db3b60ee-c7c4-46fb-a701-1b1ad1800d01"
      },
      "execution_count": 61,
      "outputs": [
        {
          "output_type": "execute_result",
          "data": {
            "text/plain": [
              "     Gender  Edad  Duración del sueño  Calidad del sueño  \\\n",
              "0         0    27                 6.1                  6   \n",
              "1         0    28                 6.2                  6   \n",
              "2         0    28                 6.2                  6   \n",
              "3         0    28                 5.9                  4   \n",
              "4         0    28                 5.9                  4   \n",
              "..      ...   ...                 ...                ...   \n",
              "369       1    59                 8.1                  9   \n",
              "370       1    59                 8.0                  9   \n",
              "371       1    59                 8.1                  9   \n",
              "372       1    59                 8.1                  9   \n",
              "373       1    59                 8.1                  9   \n",
              "\n",
              "     Nivel de actividad fisica  Nivel de stress  BMI  Heart Rate  \\\n",
              "0                           42                6    2          77   \n",
              "1                           60                8    0          75   \n",
              "2                           60                8    0          75   \n",
              "3                           30                8    3          85   \n",
              "4                           30                8    3          85   \n",
              "..                         ...              ...  ...         ...   \n",
              "369                         75                3    2          68   \n",
              "370                         75                3    2          68   \n",
              "371                         75                3    2          68   \n",
              "372                         75                3    2          68   \n",
              "373                         75                3    2          68   \n",
              "\n",
              "     Pasos diarios  Desorden del sueño  \n",
              "0             4200                   0  \n",
              "1            10000                   0  \n",
              "2            10000                   0  \n",
              "3             3000                   1  \n",
              "4             3000                   1  \n",
              "..             ...                 ...  \n",
              "369           7000                   1  \n",
              "370           7000                   1  \n",
              "371           7000                   1  \n",
              "372           7000                   1  \n",
              "373           7000                   1  \n",
              "\n",
              "[374 rows x 10 columns]"
            ],
            "text/html": [
              "\n",
              "\n",
              "  <div id=\"df-17ce34c5-3288-42d3-b1f7-c669cb5fbd67\">\n",
              "    <div class=\"colab-df-container\">\n",
              "      <div>\n",
              "<style scoped>\n",
              "    .dataframe tbody tr th:only-of-type {\n",
              "        vertical-align: middle;\n",
              "    }\n",
              "\n",
              "    .dataframe tbody tr th {\n",
              "        vertical-align: top;\n",
              "    }\n",
              "\n",
              "    .dataframe thead th {\n",
              "        text-align: right;\n",
              "    }\n",
              "</style>\n",
              "<table border=\"1\" class=\"dataframe\">\n",
              "  <thead>\n",
              "    <tr style=\"text-align: right;\">\n",
              "      <th></th>\n",
              "      <th>Gender</th>\n",
              "      <th>Edad</th>\n",
              "      <th>Duración del sueño</th>\n",
              "      <th>Calidad del sueño</th>\n",
              "      <th>Nivel de actividad fisica</th>\n",
              "      <th>Nivel de stress</th>\n",
              "      <th>BMI</th>\n",
              "      <th>Heart Rate</th>\n",
              "      <th>Pasos diarios</th>\n",
              "      <th>Desorden del sueño</th>\n",
              "    </tr>\n",
              "  </thead>\n",
              "  <tbody>\n",
              "    <tr>\n",
              "      <th>0</th>\n",
              "      <td>0</td>\n",
              "      <td>27</td>\n",
              "      <td>6.1</td>\n",
              "      <td>6</td>\n",
              "      <td>42</td>\n",
              "      <td>6</td>\n",
              "      <td>2</td>\n",
              "      <td>77</td>\n",
              "      <td>4200</td>\n",
              "      <td>0</td>\n",
              "    </tr>\n",
              "    <tr>\n",
              "      <th>1</th>\n",
              "      <td>0</td>\n",
              "      <td>28</td>\n",
              "      <td>6.2</td>\n",
              "      <td>6</td>\n",
              "      <td>60</td>\n",
              "      <td>8</td>\n",
              "      <td>0</td>\n",
              "      <td>75</td>\n",
              "      <td>10000</td>\n",
              "      <td>0</td>\n",
              "    </tr>\n",
              "    <tr>\n",
              "      <th>2</th>\n",
              "      <td>0</td>\n",
              "      <td>28</td>\n",
              "      <td>6.2</td>\n",
              "      <td>6</td>\n",
              "      <td>60</td>\n",
              "      <td>8</td>\n",
              "      <td>0</td>\n",
              "      <td>75</td>\n",
              "      <td>10000</td>\n",
              "      <td>0</td>\n",
              "    </tr>\n",
              "    <tr>\n",
              "      <th>3</th>\n",
              "      <td>0</td>\n",
              "      <td>28</td>\n",
              "      <td>5.9</td>\n",
              "      <td>4</td>\n",
              "      <td>30</td>\n",
              "      <td>8</td>\n",
              "      <td>3</td>\n",
              "      <td>85</td>\n",
              "      <td>3000</td>\n",
              "      <td>1</td>\n",
              "    </tr>\n",
              "    <tr>\n",
              "      <th>4</th>\n",
              "      <td>0</td>\n",
              "      <td>28</td>\n",
              "      <td>5.9</td>\n",
              "      <td>4</td>\n",
              "      <td>30</td>\n",
              "      <td>8</td>\n",
              "      <td>3</td>\n",
              "      <td>85</td>\n",
              "      <td>3000</td>\n",
              "      <td>1</td>\n",
              "    </tr>\n",
              "    <tr>\n",
              "      <th>...</th>\n",
              "      <td>...</td>\n",
              "      <td>...</td>\n",
              "      <td>...</td>\n",
              "      <td>...</td>\n",
              "      <td>...</td>\n",
              "      <td>...</td>\n",
              "      <td>...</td>\n",
              "      <td>...</td>\n",
              "      <td>...</td>\n",
              "      <td>...</td>\n",
              "    </tr>\n",
              "    <tr>\n",
              "      <th>369</th>\n",
              "      <td>1</td>\n",
              "      <td>59</td>\n",
              "      <td>8.1</td>\n",
              "      <td>9</td>\n",
              "      <td>75</td>\n",
              "      <td>3</td>\n",
              "      <td>2</td>\n",
              "      <td>68</td>\n",
              "      <td>7000</td>\n",
              "      <td>1</td>\n",
              "    </tr>\n",
              "    <tr>\n",
              "      <th>370</th>\n",
              "      <td>1</td>\n",
              "      <td>59</td>\n",
              "      <td>8.0</td>\n",
              "      <td>9</td>\n",
              "      <td>75</td>\n",
              "      <td>3</td>\n",
              "      <td>2</td>\n",
              "      <td>68</td>\n",
              "      <td>7000</td>\n",
              "      <td>1</td>\n",
              "    </tr>\n",
              "    <tr>\n",
              "      <th>371</th>\n",
              "      <td>1</td>\n",
              "      <td>59</td>\n",
              "      <td>8.1</td>\n",
              "      <td>9</td>\n",
              "      <td>75</td>\n",
              "      <td>3</td>\n",
              "      <td>2</td>\n",
              "      <td>68</td>\n",
              "      <td>7000</td>\n",
              "      <td>1</td>\n",
              "    </tr>\n",
              "    <tr>\n",
              "      <th>372</th>\n",
              "      <td>1</td>\n",
              "      <td>59</td>\n",
              "      <td>8.1</td>\n",
              "      <td>9</td>\n",
              "      <td>75</td>\n",
              "      <td>3</td>\n",
              "      <td>2</td>\n",
              "      <td>68</td>\n",
              "      <td>7000</td>\n",
              "      <td>1</td>\n",
              "    </tr>\n",
              "    <tr>\n",
              "      <th>373</th>\n",
              "      <td>1</td>\n",
              "      <td>59</td>\n",
              "      <td>8.1</td>\n",
              "      <td>9</td>\n",
              "      <td>75</td>\n",
              "      <td>3</td>\n",
              "      <td>2</td>\n",
              "      <td>68</td>\n",
              "      <td>7000</td>\n",
              "      <td>1</td>\n",
              "    </tr>\n",
              "  </tbody>\n",
              "</table>\n",
              "<p>374 rows × 10 columns</p>\n",
              "</div>\n",
              "      <button class=\"colab-df-convert\" onclick=\"convertToInteractive('df-17ce34c5-3288-42d3-b1f7-c669cb5fbd67')\"\n",
              "              title=\"Convert this dataframe to an interactive table.\"\n",
              "              style=\"display:none;\">\n",
              "\n",
              "  <svg xmlns=\"http://www.w3.org/2000/svg\" height=\"24px\"viewBox=\"0 0 24 24\"\n",
              "       width=\"24px\">\n",
              "    <path d=\"M0 0h24v24H0V0z\" fill=\"none\"/>\n",
              "    <path d=\"M18.56 5.44l.94 2.06.94-2.06 2.06-.94-2.06-.94-.94-2.06-.94 2.06-2.06.94zm-11 1L8.5 8.5l.94-2.06 2.06-.94-2.06-.94L8.5 2.5l-.94 2.06-2.06.94zm10 10l.94 2.06.94-2.06 2.06-.94-2.06-.94-.94-2.06-.94 2.06-2.06.94z\"/><path d=\"M17.41 7.96l-1.37-1.37c-.4-.4-.92-.59-1.43-.59-.52 0-1.04.2-1.43.59L10.3 9.45l-7.72 7.72c-.78.78-.78 2.05 0 2.83L4 21.41c.39.39.9.59 1.41.59.51 0 1.02-.2 1.41-.59l7.78-7.78 2.81-2.81c.8-.78.8-2.07 0-2.86zM5.41 20L4 18.59l7.72-7.72 1.47 1.35L5.41 20z\"/>\n",
              "  </svg>\n",
              "      </button>\n",
              "\n",
              "\n",
              "\n",
              "    <div id=\"df-9cf08c89-8147-4b30-877c-321dea2278cb\">\n",
              "      <button class=\"colab-df-quickchart\" onclick=\"quickchart('df-9cf08c89-8147-4b30-877c-321dea2278cb')\"\n",
              "              title=\"Suggest charts.\"\n",
              "              style=\"display:none;\">\n",
              "\n",
              "<svg xmlns=\"http://www.w3.org/2000/svg\" height=\"24px\"viewBox=\"0 0 24 24\"\n",
              "     width=\"24px\">\n",
              "    <g>\n",
              "        <path d=\"M19 3H5c-1.1 0-2 .9-2 2v14c0 1.1.9 2 2 2h14c1.1 0 2-.9 2-2V5c0-1.1-.9-2-2-2zM9 17H7v-7h2v7zm4 0h-2V7h2v10zm4 0h-2v-4h2v4z\"/>\n",
              "    </g>\n",
              "</svg>\n",
              "      </button>\n",
              "    </div>\n",
              "\n",
              "<style>\n",
              "  .colab-df-quickchart {\n",
              "    background-color: #E8F0FE;\n",
              "    border: none;\n",
              "    border-radius: 50%;\n",
              "    cursor: pointer;\n",
              "    display: none;\n",
              "    fill: #1967D2;\n",
              "    height: 32px;\n",
              "    padding: 0 0 0 0;\n",
              "    width: 32px;\n",
              "  }\n",
              "\n",
              "  .colab-df-quickchart:hover {\n",
              "    background-color: #E2EBFA;\n",
              "    box-shadow: 0px 1px 2px rgba(60, 64, 67, 0.3), 0px 1px 3px 1px rgba(60, 64, 67, 0.15);\n",
              "    fill: #174EA6;\n",
              "  }\n",
              "\n",
              "  [theme=dark] .colab-df-quickchart {\n",
              "    background-color: #3B4455;\n",
              "    fill: #D2E3FC;\n",
              "  }\n",
              "\n",
              "  [theme=dark] .colab-df-quickchart:hover {\n",
              "    background-color: #434B5C;\n",
              "    box-shadow: 0px 1px 3px 1px rgba(0, 0, 0, 0.15);\n",
              "    filter: drop-shadow(0px 1px 2px rgba(0, 0, 0, 0.3));\n",
              "    fill: #FFFFFF;\n",
              "  }\n",
              "</style>\n",
              "\n",
              "    <script>\n",
              "      async function quickchart(key) {\n",
              "        const containerElement = document.querySelector('#' + key);\n",
              "        const charts = await google.colab.kernel.invokeFunction(\n",
              "            'suggestCharts', [key], {});\n",
              "      }\n",
              "    </script>\n",
              "\n",
              "      <script>\n",
              "\n",
              "function displayQuickchartButton(domScope) {\n",
              "  let quickchartButtonEl =\n",
              "    domScope.querySelector('#df-9cf08c89-8147-4b30-877c-321dea2278cb button.colab-df-quickchart');\n",
              "  quickchartButtonEl.style.display =\n",
              "    google.colab.kernel.accessAllowed ? 'block' : 'none';\n",
              "}\n",
              "\n",
              "        displayQuickchartButton(document);\n",
              "      </script>\n",
              "      <style>\n",
              "    .colab-df-container {\n",
              "      display:flex;\n",
              "      flex-wrap:wrap;\n",
              "      gap: 12px;\n",
              "    }\n",
              "\n",
              "    .colab-df-convert {\n",
              "      background-color: #E8F0FE;\n",
              "      border: none;\n",
              "      border-radius: 50%;\n",
              "      cursor: pointer;\n",
              "      display: none;\n",
              "      fill: #1967D2;\n",
              "      height: 32px;\n",
              "      padding: 0 0 0 0;\n",
              "      width: 32px;\n",
              "    }\n",
              "\n",
              "    .colab-df-convert:hover {\n",
              "      background-color: #E2EBFA;\n",
              "      box-shadow: 0px 1px 2px rgba(60, 64, 67, 0.3), 0px 1px 3px 1px rgba(60, 64, 67, 0.15);\n",
              "      fill: #174EA6;\n",
              "    }\n",
              "\n",
              "    [theme=dark] .colab-df-convert {\n",
              "      background-color: #3B4455;\n",
              "      fill: #D2E3FC;\n",
              "    }\n",
              "\n",
              "    [theme=dark] .colab-df-convert:hover {\n",
              "      background-color: #434B5C;\n",
              "      box-shadow: 0px 1px 3px 1px rgba(0, 0, 0, 0.15);\n",
              "      filter: drop-shadow(0px 1px 2px rgba(0, 0, 0, 0.3));\n",
              "      fill: #FFFFFF;\n",
              "    }\n",
              "  </style>\n",
              "\n",
              "      <script>\n",
              "        const buttonEl =\n",
              "          document.querySelector('#df-17ce34c5-3288-42d3-b1f7-c669cb5fbd67 button.colab-df-convert');\n",
              "        buttonEl.style.display =\n",
              "          google.colab.kernel.accessAllowed ? 'block' : 'none';\n",
              "\n",
              "        async function convertToInteractive(key) {\n",
              "          const element = document.querySelector('#df-17ce34c5-3288-42d3-b1f7-c669cb5fbd67');\n",
              "          const dataTable =\n",
              "            await google.colab.kernel.invokeFunction('convertToInteractive',\n",
              "                                                     [key], {});\n",
              "          if (!dataTable) return;\n",
              "\n",
              "          const docLinkHtml = 'Like what you see? Visit the ' +\n",
              "            '<a target=\"_blank\" href=https://colab.research.google.com/notebooks/data_table.ipynb>data table notebook</a>'\n",
              "            + ' to learn more about interactive tables.';\n",
              "          element.innerHTML = '';\n",
              "          dataTable['output_type'] = 'display_data';\n",
              "          await google.colab.output.renderOutput(dataTable, element);\n",
              "          const docLink = document.createElement('div');\n",
              "          docLink.innerHTML = docLinkHtml;\n",
              "          element.appendChild(docLink);\n",
              "        }\n",
              "      </script>\n",
              "    </div>\n",
              "  </div>\n"
            ]
          },
          "metadata": {},
          "execution_count": 61
        }
      ]
    },
    {
      "cell_type": "code",
      "source": [
        "#Se crean los datos de entrada X\n",
        "dat1=pd.to_numeric(new_df3['Gender'], errors='coerce')\n",
        "dat2=pd.to_numeric(new_df3['Edad'], errors='coerce')\n",
        "dat3=pd.to_numeric(new_df3['Duración del sueño'], errors='coerce')\n",
        "dat4=pd.to_numeric(new_df3['Calidad del sueño'], errors='coerce')\n",
        "dat5=pd.to_numeric(new_df3['Nivel de actividad fisica'], errors='coerce')\n",
        "dat6=pd.to_numeric(new_df3['Nivel de stress'], errors='coerce')\n",
        "dat7=pd.to_numeric(new_df3['BMI'], errors='coerce')\n",
        "dat8=pd.to_numeric(new_df3['Heart Rate'], errors='coerce')\n",
        "dat9=pd.to_numeric(new_df3['Pasos diarios'], errors='coerce')\n",
        "x1=np.array(dat1)\n",
        "x2=np.array(dat2)\n",
        "x3=np.array(dat3)\n",
        "x4=np.array(dat4)\n",
        "x5=np.array(dat5)\n",
        "x6=np.array(dat6)\n",
        "x7=np.array(dat7)\n",
        "x8=np.array(dat8)\n",
        "x9=np.array(dat9)"
      ],
      "metadata": {
        "id": "FutFsXChVL99"
      },
      "execution_count": 62,
      "outputs": []
    },
    {
      "cell_type": "code",
      "source": [
        "#Se crea la matriz para los datos de entrada en arreglo de numpy\n",
        "Salida=[]\n",
        "for i in range(len(dat1)):\n",
        "    aux=[]\n",
        "    aux.append(x1[i])\n",
        "    aux.append(x2[i])\n",
        "    aux.append(x3[i])\n",
        "    aux.append(x4[i])\n",
        "    aux.append(x5[i])\n",
        "    aux.append(x6[i])\n",
        "    aux.append(x7[i])\n",
        "    aux.append(x8[i])\n",
        "    aux.append(x9[i])\n",
        "    Salida.append(aux)\n",
        "X1=np.array(Salida)\n",
        "#Se verifican los datos de entrada\n",
        "X1"
      ],
      "metadata": {
        "colab": {
          "base_uri": "https://localhost:8080/"
        },
        "id": "2NvEjYUBW_J0",
        "outputId": "950433ad-9fc7-4aed-cd05-21d256e9f7e6"
      },
      "execution_count": 63,
      "outputs": [
        {
          "output_type": "execute_result",
          "data": {
            "text/plain": [
              "array([[0.0e+00, 2.7e+01, 6.1e+00, ..., 2.0e+00, 7.7e+01, 4.2e+03],\n",
              "       [0.0e+00, 2.8e+01, 6.2e+00, ..., 0.0e+00, 7.5e+01, 1.0e+04],\n",
              "       [0.0e+00, 2.8e+01, 6.2e+00, ..., 0.0e+00, 7.5e+01, 1.0e+04],\n",
              "       ...,\n",
              "       [1.0e+00, 5.9e+01, 8.1e+00, ..., 2.0e+00, 6.8e+01, 7.0e+03],\n",
              "       [1.0e+00, 5.9e+01, 8.1e+00, ..., 2.0e+00, 6.8e+01, 7.0e+03],\n",
              "       [1.0e+00, 5.9e+01, 8.1e+00, ..., 2.0e+00, 6.8e+01, 7.0e+03]])"
            ]
          },
          "metadata": {},
          "execution_count": 63
        }
      ]
    },
    {
      "cell_type": "code",
      "source": [
        "#Se crea el dato de salida, la variable respuesta son los criterios del desorden del sueño\n",
        "#Convertir los datos del data Frame a numpy\n",
        "salida=pd.to_numeric(new_df3['Desorden del sueño'], errors='coerce')\n",
        "print(type(salida))\n",
        "y1=np.array(salida)\n",
        "print(type(y1))"
      ],
      "metadata": {
        "colab": {
          "base_uri": "https://localhost:8080/"
        },
        "id": "cZIx8dLyXS8i",
        "outputId": "b7eb2d02-3bd7-4070-de8f-e364630075a8"
      },
      "execution_count": 64,
      "outputs": [
        {
          "output_type": "stream",
          "name": "stdout",
          "text": [
            "<class 'pandas.core.series.Series'>\n",
            "<class 'numpy.ndarray'>\n"
          ]
        }
      ]
    },
    {
      "cell_type": "code",
      "source": [
        "#Se verifican los datos de salida\n",
        "print(y1)"
      ],
      "metadata": {
        "colab": {
          "base_uri": "https://localhost:8080/"
        },
        "id": "Qq8yvFptcob3",
        "outputId": "55ba9dc8-e3a5-4c4c-fa18-8fe884a4bee0"
      },
      "execution_count": 65,
      "outputs": [
        {
          "output_type": "stream",
          "name": "stdout",
          "text": [
            "[0 0 0 1 1 2 2 0 0 0 0 0 0 0 0 0 1 1 2 0 0 0 0 0 0 0 0 0 0 0 1 2 0 0 0 0 0\n",
            " 0 0 0 0 0 0 0 0 0 0 0 0 1 0 0 0 0 0 0 0 0 0 0 0 0 0 0 0 0 0 2 0 0 0 0 0 0\n",
            " 0 0 0 0 0 0 1 1 0 0 0 0 0 0 0 0 0 0 0 1 2 0 0 0 0 0 0 0 0 1 1 2 0 0 0 0 0\n",
            " 0 0 0 0 0 0 0 0 0 0 0 0 0 0 0 0 0 0 0 0 0 0 0 0 0 0 0 0 0 0 0 0 0 1 1 2 2\n",
            " 0 0 0 0 0 0 0 0 0 0 0 0 0 0 0 0 0 2 0 0 0 0 0 0 0 0 0 0 0 2 0 0 0 0 0 0 1\n",
            " 1 2 2 2 2 2 2 2 2 2 2 2 2 2 2 2 2 2 0 0 0 0 0 0 0 0 0 0 0 0 0 0 0 1 1 2 2\n",
            " 2 2 2 2 2 2 2 2 2 2 2 2 2 2 2 2 2 2 2 2 2 2 2 2 2 2 0 0 2 2 2 2 2 2 2 2 2\n",
            " 2 2 0 0 0 2 1 2 0 1 1 1 1 1 1 1 1 1 1 2 0 0 1 1 1 1 1 1 1 1 1 1 1 1 1 1 1\n",
            " 1 1 0 0 0 0 0 1 1 1 2 2 2 2 2 2 0 0 0 2 0 0 0 0 0 0 0 0 0 0 0 0 0 0 0 0 0\n",
            " 0 0 0 0 0 0 1 1 0 0 0 1 1 1 1 1 1 1 1 1 1 1 1 1 1 0 0 1 1 1 1 1 1 1 1 1 1\n",
            " 1 1 1 1]\n"
          ]
        }
      ]
    },
    {
      "cell_type": "code",
      "source": [
        "#Importar datos\n",
        "import numpy as np\n",
        "import matplotlib.pyplot as plt\n",
        "from sklearn.datasets import load_iris\n",
        "from sklearn.model_selection import train_test_split\n",
        "from sklearn.preprocessing import  OneHotEncoder\n",
        "\n",
        "from keras.models import Sequential\n",
        "from keras.layers import Dense\n",
        "from keras.optimizers import Adam"
      ],
      "metadata": {
        "id": "xpFyUwZ9k6gL"
      },
      "execution_count": 66,
      "outputs": []
    },
    {
      "cell_type": "markdown",
      "source": [
        "## Aplicar el algoritmo de agrupamiento de las K medias"
      ],
      "metadata": {
        "id": "yMtbAf1MGi54"
      }
    },
    {
      "cell_type": "code",
      "source": [
        "#Aplicar el modelo de agrupamiento\n",
        "from sklearn.cluster import KMeans\n",
        "Kmeans=KMeans(n_clusters=4,max_iter=300)\n",
        "Kmeans.fit(new_df3)"
      ],
      "metadata": {
        "colab": {
          "base_uri": "https://localhost:8080/",
          "height": 130
        },
        "id": "tukBLnxTYZlx",
        "outputId": "7681aa66-ed8c-4ffd-b9ca-cff2a216e2db"
      },
      "execution_count": 67,
      "outputs": [
        {
          "output_type": "stream",
          "name": "stderr",
          "text": [
            "/usr/local/lib/python3.10/dist-packages/sklearn/cluster/_kmeans.py:870: FutureWarning: The default value of `n_init` will change from 10 to 'auto' in 1.4. Set the value of `n_init` explicitly to suppress the warning\n",
            "  warnings.warn(\n"
          ]
        },
        {
          "output_type": "execute_result",
          "data": {
            "text/plain": [
              "KMeans(n_clusters=4)"
            ],
            "text/html": [
              "<style>#sk-container-id-5 {color: black;background-color: white;}#sk-container-id-5 pre{padding: 0;}#sk-container-id-5 div.sk-toggleable {background-color: white;}#sk-container-id-5 label.sk-toggleable__label {cursor: pointer;display: block;width: 100%;margin-bottom: 0;padding: 0.3em;box-sizing: border-box;text-align: center;}#sk-container-id-5 label.sk-toggleable__label-arrow:before {content: \"▸\";float: left;margin-right: 0.25em;color: #696969;}#sk-container-id-5 label.sk-toggleable__label-arrow:hover:before {color: black;}#sk-container-id-5 div.sk-estimator:hover label.sk-toggleable__label-arrow:before {color: black;}#sk-container-id-5 div.sk-toggleable__content {max-height: 0;max-width: 0;overflow: hidden;text-align: left;background-color: #f0f8ff;}#sk-container-id-5 div.sk-toggleable__content pre {margin: 0.2em;color: black;border-radius: 0.25em;background-color: #f0f8ff;}#sk-container-id-5 input.sk-toggleable__control:checked~div.sk-toggleable__content {max-height: 200px;max-width: 100%;overflow: auto;}#sk-container-id-5 input.sk-toggleable__control:checked~label.sk-toggleable__label-arrow:before {content: \"▾\";}#sk-container-id-5 div.sk-estimator input.sk-toggleable__control:checked~label.sk-toggleable__label {background-color: #d4ebff;}#sk-container-id-5 div.sk-label input.sk-toggleable__control:checked~label.sk-toggleable__label {background-color: #d4ebff;}#sk-container-id-5 input.sk-hidden--visually {border: 0;clip: rect(1px 1px 1px 1px);clip: rect(1px, 1px, 1px, 1px);height: 1px;margin: -1px;overflow: hidden;padding: 0;position: absolute;width: 1px;}#sk-container-id-5 div.sk-estimator {font-family: monospace;background-color: #f0f8ff;border: 1px dotted black;border-radius: 0.25em;box-sizing: border-box;margin-bottom: 0.5em;}#sk-container-id-5 div.sk-estimator:hover {background-color: #d4ebff;}#sk-container-id-5 div.sk-parallel-item::after {content: \"\";width: 100%;border-bottom: 1px solid gray;flex-grow: 1;}#sk-container-id-5 div.sk-label:hover label.sk-toggleable__label {background-color: #d4ebff;}#sk-container-id-5 div.sk-serial::before {content: \"\";position: absolute;border-left: 1px solid gray;box-sizing: border-box;top: 0;bottom: 0;left: 50%;z-index: 0;}#sk-container-id-5 div.sk-serial {display: flex;flex-direction: column;align-items: center;background-color: white;padding-right: 0.2em;padding-left: 0.2em;position: relative;}#sk-container-id-5 div.sk-item {position: relative;z-index: 1;}#sk-container-id-5 div.sk-parallel {display: flex;align-items: stretch;justify-content: center;background-color: white;position: relative;}#sk-container-id-5 div.sk-item::before, #sk-container-id-5 div.sk-parallel-item::before {content: \"\";position: absolute;border-left: 1px solid gray;box-sizing: border-box;top: 0;bottom: 0;left: 50%;z-index: -1;}#sk-container-id-5 div.sk-parallel-item {display: flex;flex-direction: column;z-index: 1;position: relative;background-color: white;}#sk-container-id-5 div.sk-parallel-item:first-child::after {align-self: flex-end;width: 50%;}#sk-container-id-5 div.sk-parallel-item:last-child::after {align-self: flex-start;width: 50%;}#sk-container-id-5 div.sk-parallel-item:only-child::after {width: 0;}#sk-container-id-5 div.sk-dashed-wrapped {border: 1px dashed gray;margin: 0 0.4em 0.5em 0.4em;box-sizing: border-box;padding-bottom: 0.4em;background-color: white;}#sk-container-id-5 div.sk-label label {font-family: monospace;font-weight: bold;display: inline-block;line-height: 1.2em;}#sk-container-id-5 div.sk-label-container {text-align: center;}#sk-container-id-5 div.sk-container {/* jupyter's `normalize.less` sets `[hidden] { display: none; }` but bootstrap.min.css set `[hidden] { display: none !important; }` so we also need the `!important` here to be able to override the default hidden behavior on the sphinx rendered scikit-learn.org. See: https://github.com/scikit-learn/scikit-learn/issues/21755 */display: inline-block !important;position: relative;}#sk-container-id-5 div.sk-text-repr-fallback {display: none;}</style><div id=\"sk-container-id-5\" class=\"sk-top-container\"><div class=\"sk-text-repr-fallback\"><pre>KMeans(n_clusters=4)</pre><b>In a Jupyter environment, please rerun this cell to show the HTML representation or trust the notebook. <br />On GitHub, the HTML representation is unable to render, please try loading this page with nbviewer.org.</b></div><div class=\"sk-container\" hidden><div class=\"sk-item\"><div class=\"sk-estimator sk-toggleable\"><input class=\"sk-toggleable__control sk-hidden--visually\" id=\"sk-estimator-id-5\" type=\"checkbox\" checked><label for=\"sk-estimator-id-5\" class=\"sk-toggleable__label sk-toggleable__label-arrow\">KMeans</label><div class=\"sk-toggleable__content\"><pre>KMeans(n_clusters=4)</pre></div></div></div></div></div>"
            ]
          },
          "metadata": {},
          "execution_count": 67
        }
      ]
    },
    {
      "cell_type": "code",
      "source": [
        "objetivos=Kmeans.fit_predict(new_df3)\n",
        "print(objetivos)"
      ],
      "metadata": {
        "colab": {
          "base_uri": "https://localhost:8080/"
        },
        "id": "P0bDI2X3a1QH",
        "outputId": "836e3e16-942f-443e-804b-a5ffab07f423"
      },
      "execution_count": 68,
      "outputs": [
        {
          "output_type": "stream",
          "name": "stderr",
          "text": [
            "/usr/local/lib/python3.10/dist-packages/sklearn/cluster/_kmeans.py:870: FutureWarning: The default value of `n_init` will change from 10 to 'auto' in 1.4. Set the value of `n_init` explicitly to suppress the warning\n",
            "  warnings.warn(\n"
          ]
        },
        {
          "output_type": "stream",
          "name": "stdout",
          "text": [
            "[0 2 2 0 0 0 0 3 3 3 3 3 3 3 3 3 0 3 0 3 3 3 3 3 3 3 3 3 3 3 0 0 1 0 3 0 0\n",
            " 3 3 3 3 3 3 3 3 3 3 3 3 3 3 3 0 3 0 0 3 0 0 3 0 0 0 0 0 0 1 0 0 0 0 0 0 0\n",
            " 0 0 0 0 0 0 0 0 0 0 3 1 0 0 0 0 0 0 3 0 1 1 1 1 1 1 1 1 1 0 1 0 0 1 1 3 1\n",
            " 3 1 3 1 1 1 1 1 1 1 1 1 1 1 3 3 1 3 3 1 3 3 1 3 3 1 3 1 3 1 3 1 1 3 0 3 0\n",
            " 0 3 3 3 3 3 3 3 3 3 3 3 3 3 3 3 3 3 1 1 1 3 3 3 3 3 3 3 3 1 3 3 3 3 3 3 0\n",
            " 0 1 1 1 1 1 1 1 1 1 1 1 1 1 1 1 3 3 1 1 3 3 3 3 3 3 3 3 3 3 3 3 3 3 1 1 1\n",
            " 1 1 1 1 1 1 1 1 1 1 1 1 1 1 1 1 1 1 1 1 1 1 1 1 1 0 1 1 1 1 1 1 1 1 1 1 1\n",
            " 1 1 1 1 0 0 2 0 2 2 2 2 2 2 2 2 2 0 0 2 0 2 2 2 2 2 2 2 2 2 2 2 2 2 2 2 2\n",
            " 2 2 0 0 0 0 1 2 2 2 1 1 1 1 1 1 0 0 0 0 0 0 0 0 0 0 0 0 0 0 0 0 0 0 0 0 0\n",
            " 0 0 0 0 0 0 0 0 2 2 1 1 1 1 1 1 1 1 1 1 1 1 1 1 1 1 1 1 1 1 1 1 1 1 1 1 1\n",
            " 1 1 1 1]\n"
          ]
        }
      ]
    },
    {
      "cell_type": "markdown",
      "source": [
        "## Calcular los puntajes de la agrupación"
      ],
      "metadata": {
        "id": "dZQp_llKl8Oc"
      }
    },
    {
      "cell_type": "code",
      "source": [
        "#En total son 374 datos\n",
        "print(type(objetivos))\n",
        "print(len(objetivos))\n",
        "arr_=objetivos\n",
        "print(type(arr_))\n",
        "print(len(arr_))"
      ],
      "metadata": {
        "colab": {
          "base_uri": "https://localhost:8080/"
        },
        "id": "q5ZMSc47gpqW",
        "outputId": "9c4c6a37-4347-4239-d5c5-8d5bbdc45446"
      },
      "execution_count": 69,
      "outputs": [
        {
          "output_type": "stream",
          "name": "stdout",
          "text": [
            "<class 'numpy.ndarray'>\n",
            "374\n",
            "<class 'numpy.ndarray'>\n",
            "374\n"
          ]
        }
      ]
    },
    {
      "cell_type": "code",
      "source": [
        "arr_o=np.sort(arr_)\n",
        "print(arr_o)"
      ],
      "metadata": {
        "colab": {
          "base_uri": "https://localhost:8080/"
        },
        "id": "dseIYCXEg51w",
        "outputId": "1806fc4f-d6b1-4763-9652-3acfd5cdab50"
      },
      "execution_count": 70,
      "outputs": [
        {
          "output_type": "stream",
          "name": "stdout",
          "text": [
            "[0 0 0 0 0 0 0 0 0 0 0 0 0 0 0 0 0 0 0 0 0 0 0 0 0 0 0 0 0 0 0 0 0 0 0 0 0\n",
            " 0 0 0 0 0 0 0 0 0 0 0 0 0 0 0 0 0 0 0 0 0 0 0 0 0 0 0 0 0 0 0 0 0 0 0 0 0\n",
            " 0 0 0 0 0 0 0 0 0 0 0 0 0 0 0 0 0 0 0 0 0 1 1 1 1 1 1 1 1 1 1 1 1 1 1 1 1\n",
            " 1 1 1 1 1 1 1 1 1 1 1 1 1 1 1 1 1 1 1 1 1 1 1 1 1 1 1 1 1 1 1 1 1 1 1 1 1\n",
            " 1 1 1 1 1 1 1 1 1 1 1 1 1 1 1 1 1 1 1 1 1 1 1 1 1 1 1 1 1 1 1 1 1 1 1 1 1\n",
            " 1 1 1 1 1 1 1 1 1 1 1 1 1 1 1 1 1 1 1 1 1 1 1 1 1 1 1 1 1 1 1 1 1 1 1 1 1\n",
            " 1 1 1 1 1 1 1 1 1 1 1 2 2 2 2 2 2 2 2 2 2 2 2 2 2 2 2 2 2 2 2 2 2 2 2 2 2\n",
            " 2 2 2 2 2 2 2 2 2 2 3 3 3 3 3 3 3 3 3 3 3 3 3 3 3 3 3 3 3 3 3 3 3 3 3 3 3\n",
            " 3 3 3 3 3 3 3 3 3 3 3 3 3 3 3 3 3 3 3 3 3 3 3 3 3 3 3 3 3 3 3 3 3 3 3 3 3\n",
            " 3 3 3 3 3 3 3 3 3 3 3 3 3 3 3 3 3 3 3 3 3 3 3 3 3 3 3 3 3 3 3 3 3 3 3 3 3\n",
            " 3 3 3 3]\n"
          ]
        }
      ]
    },
    {
      "cell_type": "markdown",
      "source": [
        "## Representar gráficamente los grupos"
      ],
      "metadata": {
        "id": "Esnr4v-wmDzT"
      }
    },
    {
      "cell_type": "code",
      "source": [
        "#Gráfica 1 para visualizar los datos de agrupación\n",
        "plt.stem(arr_o)\n",
        "plt.grid()\n",
        "plt.xlabel('Muestras')\n",
        "plt.ylabel('Cluster')\n",
        "plt.show()"
      ],
      "metadata": {
        "colab": {
          "base_uri": "https://localhost:8080/",
          "height": 449
        },
        "id": "-JTRVcAthAKz",
        "outputId": "383dd6e3-3bf6-4053-e192-982852fd360f"
      },
      "execution_count": 71,
      "outputs": [
        {
          "output_type": "display_data",
          "data": {
            "text/plain": [
              "<Figure size 640x480 with 1 Axes>"
            ],
            "image/png": "[encoded data removed]"
          },
          "metadata": {}
        }
      ]
    },
    {
      "cell_type": "markdown",
      "source": [
        "De acuerdo a la gráfica 1, se observa que se agrupó los 374 datos en 4 clusters,de 150 muestras de los datos de prueba de la base de datos los agrupó en 1 cluster."
      ],
      "metadata": {
        "id": "9SvHioiBmPU_"
      }
    },
    {
      "cell_type": "code",
      "source": [
        "#Gráfica2\n",
        "#Realizar una grafica de dos dimensiones para el agrupamiento\n",
        "rango=range(0,len(arr_o))\n",
        "plt.scatter(rango,arr_o,c=Kmeans.labels_)\n",
        "plt.xlabel('Rango')\n",
        "plt.ylabel('Cluster')\n",
        "plt.title('Visualización agrupamiento')\n",
        "plt.grid()\n",
        "plt.show()"
      ],
      "metadata": {
        "colab": {
          "base_uri": "https://localhost:8080/",
          "height": 472
        },
        "id": "q2Ck_QTKhGeI",
        "outputId": "f198e004-4597-451f-98d2-4a9c7ff7b158"
      },
      "execution_count": 75,
      "outputs": [
        {
          "output_type": "display_data",
          "data": {
            "text/plain": [
              "<Figure size 640x480 with 1 Axes>"
            ],
            "image/png": "[encoded data removed]"
          },
          "metadata": {}
        }
      ]
    },
    {
      "cell_type": "markdown",
      "source": [
        "## Concluir si la agrupación fue buena o no"
      ],
      "metadata": {
        "id": "C6W_6U3ImGI4"
      }
    },
    {
      "cell_type": "markdown",
      "source": [
        "De acuerdo a la gráfica 2, se evidencia que el modelo fue bueno, puesto que el modelo agrupó los datos correctamente, están organizados en los 4 clusters establecidos, se pueden observar los 3 colores agrupados, los cuales definen las 3 categorias del indice de masa corporal(Normal,sobrepeso,obesidad) realizadas en la variable de respuesta (y). Se concluye que hubieron datos e información suficiente para que el modelo agrupará apropiadamente.\n"
      ],
      "metadata": {
        "id": "tbuJvEuhn0lS"
      }
    }
  ]
}